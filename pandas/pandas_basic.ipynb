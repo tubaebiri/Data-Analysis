{
 "cells": [
  {
   "cell_type": "code",
   "execution_count": 49,
   "id": "c1da2caf-de46-447e-8745-13c4a6b15c68",
   "metadata": {},
   "outputs": [],
   "source": [
    "import pandas as pd"
   ]
  },
  {
   "cell_type": "code",
   "execution_count": 77,
   "id": "cbd7930e-a544-4d0e-807a-3c6026e2150a",
   "metadata": {},
   "outputs": [
    {
     "data": {
      "text/plain": [
       "{'isim': ['tuba', 'ayse', 'edanur', 'derya', 'arda', 'mehmet'],\n",
       " 'yas': [24, 19, 24, 45, 32, 14],\n",
       " 'maas': [300.0, 250.0, 240.0, 350.0, 180.0, 220.0]}"
      ]
     },
     "execution_count": 77,
     "metadata": {},
     "output_type": "execute_result"
    }
   ],
   "source": [
    "# basit bir dataframe olusturdum\n",
    "dictionary={\"isim\":[\"tuba\",\"ayse\",\"edanur\",\"derya\",\"arda\",\"mehmet\"],\n",
    "            \"yas\":[24,19,24,45,32,14],\n",
    "            \"maas\":[300.0, 250.0, 240.0, 350.0, 180.0, 220.0]}\n",
    "dictionary"
   ]
  },
  {
   "cell_type": "code",
   "execution_count": 79,
   "id": "b494e9ff-8776-4ff7-9aa0-1672d2b55631",
   "metadata": {},
   "outputs": [],
   "source": [
    "veri=pd.DataFrame(dictionary)"
   ]
  },
  {
   "cell_type": "code",
   "execution_count": 81,
   "id": "4057a1d3-6977-4962-824e-ac105be3a66a",
   "metadata": {},
   "outputs": [
    {
     "data": {
      "text/html": [
       "<div>\n",
       "<style scoped>\n",
       "    .dataframe tbody tr th:only-of-type {\n",
       "        vertical-align: middle;\n",
       "    }\n",
       "\n",
       "    .dataframe tbody tr th {\n",
       "        vertical-align: top;\n",
       "    }\n",
       "\n",
       "    .dataframe thead th {\n",
       "        text-align: right;\n",
       "    }\n",
       "</style>\n",
       "<table border=\"1\" class=\"dataframe\">\n",
       "  <thead>\n",
       "    <tr style=\"text-align: right;\">\n",
       "      <th></th>\n",
       "      <th>isim</th>\n",
       "      <th>yas</th>\n",
       "      <th>maas</th>\n",
       "    </tr>\n",
       "  </thead>\n",
       "  <tbody>\n",
       "    <tr>\n",
       "      <th>0</th>\n",
       "      <td>tuba</td>\n",
       "      <td>24</td>\n",
       "      <td>300.0</td>\n",
       "    </tr>\n",
       "    <tr>\n",
       "      <th>1</th>\n",
       "      <td>ayse</td>\n",
       "      <td>19</td>\n",
       "      <td>250.0</td>\n",
       "    </tr>\n",
       "    <tr>\n",
       "      <th>2</th>\n",
       "      <td>edanur</td>\n",
       "      <td>24</td>\n",
       "      <td>240.0</td>\n",
       "    </tr>\n",
       "    <tr>\n",
       "      <th>3</th>\n",
       "      <td>derya</td>\n",
       "      <td>45</td>\n",
       "      <td>350.0</td>\n",
       "    </tr>\n",
       "    <tr>\n",
       "      <th>4</th>\n",
       "      <td>arda</td>\n",
       "      <td>32</td>\n",
       "      <td>180.0</td>\n",
       "    </tr>\n",
       "  </tbody>\n",
       "</table>\n",
       "</div>"
      ],
      "text/plain": [
       "     isim  yas   maas\n",
       "0    tuba   24  300.0\n",
       "1    ayse   19  250.0\n",
       "2  edanur   24  240.0\n",
       "3   derya   45  350.0\n",
       "4    arda   32  180.0"
      ]
     },
     "execution_count": 81,
     "metadata": {},
     "output_type": "execute_result"
    }
   ],
   "source": [
    "veri.head() #ilk 5 satırı bakılır"
   ]
  },
  {
   "cell_type": "code",
   "execution_count": 83,
   "id": "8026d1a4-7198-44a1-a24d-c353794b3735",
   "metadata": {},
   "outputs": [
    {
     "data": {
      "text/html": [
       "<div>\n",
       "<style scoped>\n",
       "    .dataframe tbody tr th:only-of-type {\n",
       "        vertical-align: middle;\n",
       "    }\n",
       "\n",
       "    .dataframe tbody tr th {\n",
       "        vertical-align: top;\n",
       "    }\n",
       "\n",
       "    .dataframe thead th {\n",
       "        text-align: right;\n",
       "    }\n",
       "</style>\n",
       "<table border=\"1\" class=\"dataframe\">\n",
       "  <thead>\n",
       "    <tr style=\"text-align: right;\">\n",
       "      <th></th>\n",
       "      <th>isim</th>\n",
       "      <th>yas</th>\n",
       "      <th>maas</th>\n",
       "    </tr>\n",
       "  </thead>\n",
       "  <tbody>\n",
       "    <tr>\n",
       "      <th>1</th>\n",
       "      <td>ayse</td>\n",
       "      <td>19</td>\n",
       "      <td>250.0</td>\n",
       "    </tr>\n",
       "    <tr>\n",
       "      <th>2</th>\n",
       "      <td>edanur</td>\n",
       "      <td>24</td>\n",
       "      <td>240.0</td>\n",
       "    </tr>\n",
       "    <tr>\n",
       "      <th>3</th>\n",
       "      <td>derya</td>\n",
       "      <td>45</td>\n",
       "      <td>350.0</td>\n",
       "    </tr>\n",
       "    <tr>\n",
       "      <th>4</th>\n",
       "      <td>arda</td>\n",
       "      <td>32</td>\n",
       "      <td>180.0</td>\n",
       "    </tr>\n",
       "    <tr>\n",
       "      <th>5</th>\n",
       "      <td>mehmet</td>\n",
       "      <td>14</td>\n",
       "      <td>220.0</td>\n",
       "    </tr>\n",
       "  </tbody>\n",
       "</table>\n",
       "</div>"
      ],
      "text/plain": [
       "     isim  yas   maas\n",
       "1    ayse   19  250.0\n",
       "2  edanur   24  240.0\n",
       "3   derya   45  350.0\n",
       "4    arda   32  180.0\n",
       "5  mehmet   14  220.0"
      ]
     },
     "execution_count": 83,
     "metadata": {},
     "output_type": "execute_result"
    }
   ],
   "source": [
    "veri.tail() #son bes satır"
   ]
  },
  {
   "cell_type": "code",
   "execution_count": 85,
   "id": "39aed12b-a5bf-498c-a2e1-a95da45dd1ac",
   "metadata": {},
   "outputs": [
    {
     "data": {
      "text/plain": [
       "Index(['isim', 'yas', 'maas'], dtype='object')"
      ]
     },
     "execution_count": 85,
     "metadata": {},
     "output_type": "execute_result"
    }
   ],
   "source": [
    "veri.columns # verinin sutunlari"
   ]
  },
  {
   "cell_type": "code",
   "execution_count": 87,
   "id": "500f83a6-3fa3-48f3-bee2-c6e28e845e41",
   "metadata": {},
   "outputs": [
    {
     "name": "stdout",
     "output_type": "stream",
     "text": [
      "<class 'pandas.core.frame.DataFrame'>\n",
      "RangeIndex: 6 entries, 0 to 5\n",
      "Data columns (total 3 columns):\n",
      " #   Column  Non-Null Count  Dtype  \n",
      "---  ------  --------------  -----  \n",
      " 0   isim    6 non-null      object \n",
      " 1   yas     6 non-null      int64  \n",
      " 2   maas    6 non-null      float64\n",
      "dtypes: float64(1), int64(1), object(1)\n",
      "memory usage: 276.0+ bytes\n"
     ]
    }
   ],
   "source": [
    "# dataframe ile ilgili temel bilgilere  info ile erişilir\n",
    "veri.info()"
   ]
  },
  {
   "cell_type": "code",
   "execution_count": 89,
   "id": "ef548eb7-ed3f-46d4-9a79-47fde02ca363",
   "metadata": {},
   "outputs": [
    {
     "data": {
      "text/html": [
       "<div>\n",
       "<style scoped>\n",
       "    .dataframe tbody tr th:only-of-type {\n",
       "        vertical-align: middle;\n",
       "    }\n",
       "\n",
       "    .dataframe tbody tr th {\n",
       "        vertical-align: top;\n",
       "    }\n",
       "\n",
       "    .dataframe thead th {\n",
       "        text-align: right;\n",
       "    }\n",
       "</style>\n",
       "<table border=\"1\" class=\"dataframe\">\n",
       "  <thead>\n",
       "    <tr style=\"text-align: right;\">\n",
       "      <th></th>\n",
       "      <th>yas</th>\n",
       "      <th>maas</th>\n",
       "    </tr>\n",
       "  </thead>\n",
       "  <tbody>\n",
       "    <tr>\n",
       "      <th>count</th>\n",
       "      <td>6.000000</td>\n",
       "      <td>6.000000</td>\n",
       "    </tr>\n",
       "    <tr>\n",
       "      <th>mean</th>\n",
       "      <td>26.333333</td>\n",
       "      <td>256.666667</td>\n",
       "    </tr>\n",
       "    <tr>\n",
       "      <th>std</th>\n",
       "      <td>10.930081</td>\n",
       "      <td>60.221812</td>\n",
       "    </tr>\n",
       "    <tr>\n",
       "      <th>min</th>\n",
       "      <td>14.000000</td>\n",
       "      <td>180.000000</td>\n",
       "    </tr>\n",
       "    <tr>\n",
       "      <th>25%</th>\n",
       "      <td>20.250000</td>\n",
       "      <td>225.000000</td>\n",
       "    </tr>\n",
       "    <tr>\n",
       "      <th>50%</th>\n",
       "      <td>24.000000</td>\n",
       "      <td>245.000000</td>\n",
       "    </tr>\n",
       "    <tr>\n",
       "      <th>75%</th>\n",
       "      <td>30.000000</td>\n",
       "      <td>287.500000</td>\n",
       "    </tr>\n",
       "    <tr>\n",
       "      <th>max</th>\n",
       "      <td>45.000000</td>\n",
       "      <td>350.000000</td>\n",
       "    </tr>\n",
       "  </tbody>\n",
       "</table>\n",
       "</div>"
      ],
      "text/plain": [
       "             yas        maas\n",
       "count   6.000000    6.000000\n",
       "mean   26.333333  256.666667\n",
       "std    10.930081   60.221812\n",
       "min    14.000000  180.000000\n",
       "25%    20.250000  225.000000\n",
       "50%    24.000000  245.000000\n",
       "75%    30.000000  287.500000\n",
       "max    45.000000  350.000000"
      ]
     },
     "execution_count": 89,
     "metadata": {},
     "output_type": "execute_result"
    }
   ],
   "source": [
    "# veri seti icerisinde bulunan numeric feature'larin temel istatistiksel analizine bakılır\n",
    "veri.describe()"
   ]
  },
  {
   "cell_type": "code",
   "execution_count": 91,
   "id": "996ef10c-d7b2-4874-aca8-117abf0d4fdd",
   "metadata": {},
   "outputs": [
    {
     "data": {
      "text/plain": [
       "0    24\n",
       "1    19\n",
       "2    24\n",
       "3    45\n",
       "4    32\n",
       "5    14\n",
       "Name: yas, dtype: int64"
      ]
     },
     "execution_count": 91,
     "metadata": {},
     "output_type": "execute_result"
    }
   ],
   "source": [
    "veri[\"yas\"]"
   ]
  },
  {
   "cell_type": "code",
   "execution_count": 93,
   "id": "9c614ae1-4c7f-4576-b4ee-2215d5f6b4bd",
   "metadata": {},
   "outputs": [
    {
     "data": {
      "text/plain": [
       "0    300.0\n",
       "1    250.0\n",
       "2    240.0\n",
       "3    350.0\n",
       "4    180.0\n",
       "5    220.0\n",
       "Name: maas, dtype: float64"
      ]
     },
     "execution_count": 93,
     "metadata": {},
     "output_type": "execute_result"
    }
   ],
   "source": [
    "veri[\"maas\"]"
   ]
  },
  {
   "cell_type": "code",
   "execution_count": 95,
   "id": "eaa9258a-d40c-4a8f-b44a-bf966afd518e",
   "metadata": {},
   "outputs": [
    {
     "data": {
      "text/html": [
       "<div>\n",
       "<style scoped>\n",
       "    .dataframe tbody tr th:only-of-type {\n",
       "        vertical-align: middle;\n",
       "    }\n",
       "\n",
       "    .dataframe tbody tr th {\n",
       "        vertical-align: top;\n",
       "    }\n",
       "\n",
       "    .dataframe thead th {\n",
       "        text-align: right;\n",
       "    }\n",
       "</style>\n",
       "<table border=\"1\" class=\"dataframe\">\n",
       "  <thead>\n",
       "    <tr style=\"text-align: right;\">\n",
       "      <th></th>\n",
       "      <th>isim</th>\n",
       "      <th>yas</th>\n",
       "      <th>maas</th>\n",
       "      <th>sehir</th>\n",
       "    </tr>\n",
       "  </thead>\n",
       "  <tbody>\n",
       "    <tr>\n",
       "      <th>0</th>\n",
       "      <td>tuba</td>\n",
       "      <td>24</td>\n",
       "      <td>300.0</td>\n",
       "      <td>istanbul</td>\n",
       "    </tr>\n",
       "    <tr>\n",
       "      <th>1</th>\n",
       "      <td>ayse</td>\n",
       "      <td>19</td>\n",
       "      <td>250.0</td>\n",
       "      <td>yalova</td>\n",
       "    </tr>\n",
       "    <tr>\n",
       "      <th>2</th>\n",
       "      <td>edanur</td>\n",
       "      <td>24</td>\n",
       "      <td>240.0</td>\n",
       "      <td>ankara</td>\n",
       "    </tr>\n",
       "    <tr>\n",
       "      <th>3</th>\n",
       "      <td>derya</td>\n",
       "      <td>45</td>\n",
       "      <td>350.0</td>\n",
       "      <td>bursa</td>\n",
       "    </tr>\n",
       "    <tr>\n",
       "      <th>4</th>\n",
       "      <td>arda</td>\n",
       "      <td>32</td>\n",
       "      <td>180.0</td>\n",
       "      <td>izmir</td>\n",
       "    </tr>\n",
       "    <tr>\n",
       "      <th>5</th>\n",
       "      <td>mehmet</td>\n",
       "      <td>14</td>\n",
       "      <td>220.0</td>\n",
       "      <td>antalya</td>\n",
       "    </tr>\n",
       "  </tbody>\n",
       "</table>\n",
       "</div>"
      ],
      "text/plain": [
       "     isim  yas   maas     sehir\n",
       "0    tuba   24  300.0  istanbul\n",
       "1    ayse   19  250.0    yalova\n",
       "2  edanur   24  240.0    ankara\n",
       "3   derya   45  350.0     bursa\n",
       "4    arda   32  180.0     izmir\n",
       "5  mehmet   14  220.0   antalya"
      ]
     },
     "execution_count": 95,
     "metadata": {},
     "output_type": "execute_result"
    }
   ],
   "source": [
    "# dataframe icerisine yeni sutun ekleme\n",
    "veri[\"sehir\"] = [\"istanbul\", \"yalova\", \"ankara\", \"bursa\", \"izmir\", \"antalya\"]\n",
    "veri"
   ]
  },
  {
   "cell_type": "code",
   "execution_count": 97,
   "id": "19d749c1-1b5a-4f21-a201-5140dd47c49b",
   "metadata": {},
   "outputs": [
    {
     "data": {
      "text/html": [
       "<div>\n",
       "<style scoped>\n",
       "    .dataframe tbody tr th:only-of-type {\n",
       "        vertical-align: middle;\n",
       "    }\n",
       "\n",
       "    .dataframe tbody tr th {\n",
       "        vertical-align: top;\n",
       "    }\n",
       "\n",
       "    .dataframe thead th {\n",
       "        text-align: right;\n",
       "    }\n",
       "</style>\n",
       "<table border=\"1\" class=\"dataframe\">\n",
       "  <thead>\n",
       "    <tr style=\"text-align: right;\">\n",
       "      <th></th>\n",
       "      <th>isim</th>\n",
       "      <th>yas</th>\n",
       "      <th>maas</th>\n",
       "      <th>sehir</th>\n",
       "      <th>maas_zamli</th>\n",
       "    </tr>\n",
       "  </thead>\n",
       "  <tbody>\n",
       "    <tr>\n",
       "      <th>0</th>\n",
       "      <td>tuba</td>\n",
       "      <td>24</td>\n",
       "      <td>300.0</td>\n",
       "      <td>istanbul</td>\n",
       "      <td>345.0</td>\n",
       "    </tr>\n",
       "    <tr>\n",
       "      <th>1</th>\n",
       "      <td>ayse</td>\n",
       "      <td>19</td>\n",
       "      <td>250.0</td>\n",
       "      <td>yalova</td>\n",
       "      <td>287.5</td>\n",
       "    </tr>\n",
       "    <tr>\n",
       "      <th>2</th>\n",
       "      <td>edanur</td>\n",
       "      <td>24</td>\n",
       "      <td>240.0</td>\n",
       "      <td>ankara</td>\n",
       "      <td>276.0</td>\n",
       "    </tr>\n",
       "    <tr>\n",
       "      <th>3</th>\n",
       "      <td>derya</td>\n",
       "      <td>45</td>\n",
       "      <td>350.0</td>\n",
       "      <td>bursa</td>\n",
       "      <td>402.5</td>\n",
       "    </tr>\n",
       "    <tr>\n",
       "      <th>4</th>\n",
       "      <td>arda</td>\n",
       "      <td>32</td>\n",
       "      <td>180.0</td>\n",
       "      <td>izmir</td>\n",
       "      <td>207.0</td>\n",
       "    </tr>\n",
       "    <tr>\n",
       "      <th>5</th>\n",
       "      <td>mehmet</td>\n",
       "      <td>14</td>\n",
       "      <td>220.0</td>\n",
       "      <td>antalya</td>\n",
       "      <td>253.0</td>\n",
       "    </tr>\n",
       "  </tbody>\n",
       "</table>\n",
       "</div>"
      ],
      "text/plain": [
       "     isim  yas   maas     sehir  maas_zamli\n",
       "0    tuba   24  300.0  istanbul       345.0\n",
       "1    ayse   19  250.0    yalova       287.5\n",
       "2  edanur   24  240.0    ankara       276.0\n",
       "3   derya   45  350.0     bursa       402.5\n",
       "4    arda   32  180.0     izmir       207.0\n",
       "5  mehmet   14  220.0   antalya       253.0"
      ]
     },
     "execution_count": 97,
     "metadata": {},
     "output_type": "execute_result"
    }
   ],
   "source": [
    "veri[\"maas_zamli\"] = veri[\"maas\"] + 15*veri[\"maas\"]/100\n",
    "veri #yüzde 15 zam oranı maasa eklenir"
   ]
  },
  {
   "cell_type": "code",
   "execution_count": 99,
   "id": "ceb356a9-7df1-454b-a078-e9a8e94cb85a",
   "metadata": {},
   "outputs": [
    {
     "data": {
      "text/plain": [
       "0    24\n",
       "1    19\n",
       "2    24\n",
       "3    45\n",
       "4    32\n",
       "5    14\n",
       "Name: yas, dtype: int64"
      ]
     },
     "execution_count": 99,
     "metadata": {},
     "output_type": "execute_result"
    }
   ],
   "source": [
    "# loc = location kisaltma\n",
    "veri.loc[:, \"yas\"] # row=satirlar, column = sutunlar"
   ]
  },
  {
   "cell_type": "code",
   "execution_count": 101,
   "id": "da6bb42f-bcd3-48dc-9bb9-6739f97b018b",
   "metadata": {},
   "outputs": [
    {
     "data": {
      "text/plain": [
       "0    24\n",
       "1    19\n",
       "2    24\n",
       "Name: yas, dtype: int64"
      ]
     },
     "execution_count": 101,
     "metadata": {},
     "output_type": "execute_result"
    }
   ],
   "source": [
    "veri.loc[0:2, \"yas\"]"
   ]
  },
  {
   "cell_type": "code",
   "execution_count": 103,
   "id": "2978d830-d3be-4cd1-bec9-29adf1607a5e",
   "metadata": {},
   "outputs": [
    {
     "data": {
      "text/plain": [
       "Index(['isim', 'yas', 'maas', 'sehir', 'maas_zamli'], dtype='object')"
      ]
     },
     "execution_count": 103,
     "metadata": {},
     "output_type": "execute_result"
    }
   ],
   "source": [
    "veri.columns"
   ]
  },
  {
   "cell_type": "code",
   "execution_count": 107,
   "id": "c415616c-3662-42e0-9d72-5a73dc8b4a09",
   "metadata": {},
   "outputs": [
    {
     "data": {
      "text/html": [
       "<div>\n",
       "<style scoped>\n",
       "    .dataframe tbody tr th:only-of-type {\n",
       "        vertical-align: middle;\n",
       "    }\n",
       "\n",
       "    .dataframe tbody tr th {\n",
       "        vertical-align: top;\n",
       "    }\n",
       "\n",
       "    .dataframe thead th {\n",
       "        text-align: right;\n",
       "    }\n",
       "</style>\n",
       "<table border=\"1\" class=\"dataframe\">\n",
       "  <thead>\n",
       "    <tr style=\"text-align: right;\">\n",
       "      <th></th>\n",
       "      <th>yas</th>\n",
       "      <th>maas</th>\n",
       "      <th>sehir</th>\n",
       "    </tr>\n",
       "  </thead>\n",
       "  <tbody>\n",
       "    <tr>\n",
       "      <th>0</th>\n",
       "      <td>24</td>\n",
       "      <td>300.0</td>\n",
       "      <td>istanbul</td>\n",
       "    </tr>\n",
       "    <tr>\n",
       "      <th>1</th>\n",
       "      <td>19</td>\n",
       "      <td>250.0</td>\n",
       "      <td>yalova</td>\n",
       "    </tr>\n",
       "    <tr>\n",
       "      <th>2</th>\n",
       "      <td>24</td>\n",
       "      <td>240.0</td>\n",
       "      <td>ankara</td>\n",
       "    </tr>\n",
       "    <tr>\n",
       "      <th>3</th>\n",
       "      <td>45</td>\n",
       "      <td>350.0</td>\n",
       "      <td>bursa</td>\n",
       "    </tr>\n",
       "  </tbody>\n",
       "</table>\n",
       "</div>"
      ],
      "text/plain": [
       "   yas   maas     sehir\n",
       "0   24  300.0  istanbul\n",
       "1   19  250.0    yalova\n",
       "2   24  240.0    ankara\n",
       "3   45  350.0     bursa"
      ]
     },
     "execution_count": 107,
     "metadata": {},
     "output_type": "execute_result"
    }
   ],
   "source": [
    "veri.loc[0:3, ['yas', 'maas', 'sehir']]"
   ]
  },
  {
   "cell_type": "code",
   "execution_count": 109,
   "id": "7bd4546c-6732-4a80-acb7-9a469495d0ce",
   "metadata": {},
   "outputs": [
    {
     "data": {
      "text/html": [
       "<div>\n",
       "<style scoped>\n",
       "    .dataframe tbody tr th:only-of-type {\n",
       "        vertical-align: middle;\n",
       "    }\n",
       "\n",
       "    .dataframe tbody tr th {\n",
       "        vertical-align: top;\n",
       "    }\n",
       "\n",
       "    .dataframe thead th {\n",
       "        text-align: right;\n",
       "    }\n",
       "</style>\n",
       "<table border=\"1\" class=\"dataframe\">\n",
       "  <thead>\n",
       "    <tr style=\"text-align: right;\">\n",
       "      <th></th>\n",
       "      <th>isim</th>\n",
       "      <th>yas</th>\n",
       "      <th>maas</th>\n",
       "      <th>sehir</th>\n",
       "      <th>maas_zamli</th>\n",
       "    </tr>\n",
       "  </thead>\n",
       "  <tbody>\n",
       "    <tr>\n",
       "      <th>0</th>\n",
       "      <td>tuba</td>\n",
       "      <td>24</td>\n",
       "      <td>300.0</td>\n",
       "      <td>istanbul</td>\n",
       "      <td>345.0</td>\n",
       "    </tr>\n",
       "    <tr>\n",
       "      <th>1</th>\n",
       "      <td>ayse</td>\n",
       "      <td>19</td>\n",
       "      <td>250.0</td>\n",
       "      <td>yalova</td>\n",
       "      <td>287.5</td>\n",
       "    </tr>\n",
       "    <tr>\n",
       "      <th>2</th>\n",
       "      <td>edanur</td>\n",
       "      <td>24</td>\n",
       "      <td>240.0</td>\n",
       "      <td>ankara</td>\n",
       "      <td>276.0</td>\n",
       "    </tr>\n",
       "    <tr>\n",
       "      <th>3</th>\n",
       "      <td>derya</td>\n",
       "      <td>45</td>\n",
       "      <td>350.0</td>\n",
       "      <td>bursa</td>\n",
       "      <td>402.5</td>\n",
       "    </tr>\n",
       "    <tr>\n",
       "      <th>4</th>\n",
       "      <td>arda</td>\n",
       "      <td>32</td>\n",
       "      <td>180.0</td>\n",
       "      <td>izmir</td>\n",
       "      <td>207.0</td>\n",
       "    </tr>\n",
       "    <tr>\n",
       "      <th>5</th>\n",
       "      <td>mehmet</td>\n",
       "      <td>14</td>\n",
       "      <td>220.0</td>\n",
       "      <td>antalya</td>\n",
       "      <td>253.0</td>\n",
       "    </tr>\n",
       "  </tbody>\n",
       "</table>\n",
       "</div>"
      ],
      "text/plain": [
       "     isim  yas   maas     sehir  maas_zamli\n",
       "0    tuba   24  300.0  istanbul       345.0\n",
       "1    ayse   19  250.0    yalova       287.5\n",
       "2  edanur   24  240.0    ankara       276.0\n",
       "3   derya   45  350.0     bursa       402.5\n",
       "4    arda   32  180.0     izmir       207.0\n",
       "5  mehmet   14  220.0   antalya       253.0"
      ]
     },
     "execution_count": 109,
     "metadata": {},
     "output_type": "execute_result"
    }
   ],
   "source": [
    "veri"
   ]
  },
  {
   "cell_type": "code",
   "execution_count": 115,
   "id": "a84cd4f6-9e80-4538-938e-6ce473a5688c",
   "metadata": {},
   "outputs": [
    {
     "data": {
      "text/plain": [
       "0    24\n",
       "1    19\n",
       "Name: yas, dtype: int64"
      ]
     },
     "execution_count": 115,
     "metadata": {},
     "output_type": "execute_result"
    }
   ],
   "source": [
    "#0 ve 1 satırın 1.sütundaki değerleri\n",
    "veri.iloc[0:2, 1] "
   ]
  },
  {
   "cell_type": "code",
   "execution_count": 113,
   "id": "bd7a4409-4ed8-4c99-85e5-3814bb6d8ab7",
   "metadata": {},
   "outputs": [
    {
     "data": {
      "text/html": [
       "<div>\n",
       "<style scoped>\n",
       "    .dataframe tbody tr th:only-of-type {\n",
       "        vertical-align: middle;\n",
       "    }\n",
       "\n",
       "    .dataframe tbody tr th {\n",
       "        vertical-align: top;\n",
       "    }\n",
       "\n",
       "    .dataframe thead th {\n",
       "        text-align: right;\n",
       "    }\n",
       "</style>\n",
       "<table border=\"1\" class=\"dataframe\">\n",
       "  <thead>\n",
       "    <tr style=\"text-align: right;\">\n",
       "      <th></th>\n",
       "      <th>yas</th>\n",
       "      <th>maas</th>\n",
       "    </tr>\n",
       "  </thead>\n",
       "  <tbody>\n",
       "    <tr>\n",
       "      <th>2</th>\n",
       "      <td>24</td>\n",
       "      <td>240.0</td>\n",
       "    </tr>\n",
       "    <tr>\n",
       "      <th>4</th>\n",
       "      <td>32</td>\n",
       "      <td>180.0</td>\n",
       "    </tr>\n",
       "  </tbody>\n",
       "</table>\n",
       "</div>"
      ],
      "text/plain": [
       "   yas   maas\n",
       "2   24  240.0\n",
       "4   32  180.0"
      ]
     },
     "execution_count": 113,
     "metadata": {},
     "output_type": "execute_result"
    }
   ],
   "source": [
    "#2. ve 4. satırın 1. ve 2. sütunundaki değerleri\n",
    "veri.iloc[[2,4], [1,2]]"
   ]
  },
  {
   "cell_type": "code",
   "execution_count": 121,
   "id": "374db232-f728-4b8d-84b3-02234320be81",
   "metadata": {},
   "outputs": [
    {
     "data": {
      "text/html": [
       "<div>\n",
       "<style scoped>\n",
       "    .dataframe tbody tr th:only-of-type {\n",
       "        vertical-align: middle;\n",
       "    }\n",
       "\n",
       "    .dataframe tbody tr th {\n",
       "        vertical-align: top;\n",
       "    }\n",
       "\n",
       "    .dataframe thead th {\n",
       "        text-align: right;\n",
       "    }\n",
       "</style>\n",
       "<table border=\"1\" class=\"dataframe\">\n",
       "  <thead>\n",
       "    <tr style=\"text-align: right;\">\n",
       "      <th></th>\n",
       "      <th>isim</th>\n",
       "      <th>yas</th>\n",
       "      <th>maas</th>\n",
       "      <th>sehir</th>\n",
       "      <th>maas_zamli</th>\n",
       "    </tr>\n",
       "  </thead>\n",
       "  <tbody>\n",
       "    <tr>\n",
       "      <th>0</th>\n",
       "      <td>tuba</td>\n",
       "      <td>24</td>\n",
       "      <td>300.0</td>\n",
       "      <td>istanbul</td>\n",
       "      <td>350.0</td>\n",
       "    </tr>\n",
       "    <tr>\n",
       "      <th>1</th>\n",
       "      <td>ayse</td>\n",
       "      <td>19</td>\n",
       "      <td>250.0</td>\n",
       "      <td>yalova</td>\n",
       "      <td>300.0</td>\n",
       "    </tr>\n",
       "    <tr>\n",
       "      <th>2</th>\n",
       "      <td>edanur</td>\n",
       "      <td>24</td>\n",
       "      <td>240.0</td>\n",
       "      <td>ankara</td>\n",
       "      <td>290.0</td>\n",
       "    </tr>\n",
       "    <tr>\n",
       "      <th>3</th>\n",
       "      <td>derya</td>\n",
       "      <td>45</td>\n",
       "      <td>350.0</td>\n",
       "      <td>bursa</td>\n",
       "      <td>400.0</td>\n",
       "    </tr>\n",
       "    <tr>\n",
       "      <th>4</th>\n",
       "      <td>arda</td>\n",
       "      <td>32</td>\n",
       "      <td>180.0</td>\n",
       "      <td>izmir</td>\n",
       "      <td>230.0</td>\n",
       "    </tr>\n",
       "    <tr>\n",
       "      <th>5</th>\n",
       "      <td>mehmet</td>\n",
       "      <td>14</td>\n",
       "      <td>220.0</td>\n",
       "      <td>antalya</td>\n",
       "      <td>270.0</td>\n",
       "    </tr>\n",
       "  </tbody>\n",
       "</table>\n",
       "</div>"
      ],
      "text/plain": [
       "     isim  yas   maas     sehir  maas_zamli\n",
       "0    tuba   24  300.0  istanbul       350.0\n",
       "1    ayse   19  250.0    yalova       300.0\n",
       "2  edanur   24  240.0    ankara       290.0\n",
       "3   derya   45  350.0     bursa       400.0\n",
       "4    arda   32  180.0     izmir       230.0\n",
       "5  mehmet   14  220.0   antalya       270.0"
      ]
     },
     "execution_count": 121,
     "metadata": {},
     "output_type": "execute_result"
    }
   ],
   "source": [
    "veri[\"maas_zamli\"]=veri[\"maas\"]+50\n",
    "veri"
   ]
  },
  {
   "cell_type": "code",
   "execution_count": 125,
   "id": "d026143e-1d17-43ec-96b3-757c3c450dc8",
   "metadata": {},
   "outputs": [
    {
     "data": {
      "text/plain": [
       "['isim', 'yas', 'maas', 'sehir', 'maas_zamli']"
      ]
     },
     "execution_count": 125,
     "metadata": {},
     "output_type": "execute_result"
    }
   ],
   "source": [
    "#sutun isimlerini liste olarak alınır\n",
    "cols = veri.columns.tolist()\n",
    "cols "
   ]
  },
  {
   "cell_type": "code",
   "execution_count": 131,
   "id": "0d0a560d-44c3-4052-8fc1-703a31eb78f4",
   "metadata": {},
   "outputs": [
    {
     "data": {
      "text/plain": [
       "4"
      ]
     },
     "execution_count": 131,
     "metadata": {},
     "output_type": "execute_result"
    }
   ],
   "source": [
    "maas2_index = cols.index('maas_zamli')\n",
    "maas2_index"
   ]
  },
  {
   "cell_type": "code",
   "execution_count": 133,
   "id": "b9578d86-6e0c-470f-9644-634348ab6c09",
   "metadata": {},
   "outputs": [
    {
     "data": {
      "text/plain": [
       "['isim', 'yas', 'maas', 'sehir']"
      ]
     },
     "execution_count": 133,
     "metadata": {},
     "output_type": "execute_result"
    }
   ],
   "source": [
    "cols.remove('maas_zamli')\n",
    "cols"
   ]
  },
  {
   "cell_type": "code",
   "execution_count": 135,
   "id": "31fb529e-59a1-4824-a49c-8bce5e0fd91c",
   "metadata": {},
   "outputs": [],
   "source": [
    "cols.insert(1, 'maas_zamli')"
   ]
  },
  {
   "cell_type": "code",
   "execution_count": 140,
   "id": "38e0080f-968f-4626-a554-e967dc4d8d0b",
   "metadata": {},
   "outputs": [
    {
     "data": {
      "text/plain": [
       "['isim', 'maas_zamli', 'yas', 'maas', 'sehir']"
      ]
     },
     "execution_count": 140,
     "metadata": {},
     "output_type": "execute_result"
    }
   ],
   "source": [
    "cols"
   ]
  },
  {
   "cell_type": "code",
   "execution_count": 142,
   "id": "d29735b4-4d13-44cb-8f15-11a8b91b960d",
   "metadata": {},
   "outputs": [],
   "source": [
    "veri = veri[cols]"
   ]
  },
  {
   "cell_type": "code",
   "execution_count": 144,
   "id": "a8868458-c5a4-4e5c-9970-3da550b6d032",
   "metadata": {},
   "outputs": [
    {
     "data": {
      "text/html": [
       "<div>\n",
       "<style scoped>\n",
       "    .dataframe tbody tr th:only-of-type {\n",
       "        vertical-align: middle;\n",
       "    }\n",
       "\n",
       "    .dataframe tbody tr th {\n",
       "        vertical-align: top;\n",
       "    }\n",
       "\n",
       "    .dataframe thead th {\n",
       "        text-align: right;\n",
       "    }\n",
       "</style>\n",
       "<table border=\"1\" class=\"dataframe\">\n",
       "  <thead>\n",
       "    <tr style=\"text-align: right;\">\n",
       "      <th></th>\n",
       "      <th>isim</th>\n",
       "      <th>maas_zamli</th>\n",
       "      <th>yas</th>\n",
       "      <th>maas</th>\n",
       "      <th>sehir</th>\n",
       "    </tr>\n",
       "  </thead>\n",
       "  <tbody>\n",
       "    <tr>\n",
       "      <th>0</th>\n",
       "      <td>tuba</td>\n",
       "      <td>350.0</td>\n",
       "      <td>24</td>\n",
       "      <td>300.0</td>\n",
       "      <td>istanbul</td>\n",
       "    </tr>\n",
       "    <tr>\n",
       "      <th>1</th>\n",
       "      <td>ayse</td>\n",
       "      <td>300.0</td>\n",
       "      <td>19</td>\n",
       "      <td>250.0</td>\n",
       "      <td>yalova</td>\n",
       "    </tr>\n",
       "    <tr>\n",
       "      <th>2</th>\n",
       "      <td>edanur</td>\n",
       "      <td>290.0</td>\n",
       "      <td>24</td>\n",
       "      <td>240.0</td>\n",
       "      <td>ankara</td>\n",
       "    </tr>\n",
       "    <tr>\n",
       "      <th>3</th>\n",
       "      <td>derya</td>\n",
       "      <td>400.0</td>\n",
       "      <td>45</td>\n",
       "      <td>350.0</td>\n",
       "      <td>bursa</td>\n",
       "    </tr>\n",
       "    <tr>\n",
       "      <th>4</th>\n",
       "      <td>arda</td>\n",
       "      <td>230.0</td>\n",
       "      <td>32</td>\n",
       "      <td>180.0</td>\n",
       "      <td>izmir</td>\n",
       "    </tr>\n",
       "    <tr>\n",
       "      <th>5</th>\n",
       "      <td>mehmet</td>\n",
       "      <td>270.0</td>\n",
       "      <td>14</td>\n",
       "      <td>220.0</td>\n",
       "      <td>antalya</td>\n",
       "    </tr>\n",
       "  </tbody>\n",
       "</table>\n",
       "</div>"
      ],
      "text/plain": [
       "     isim  maas_zamli  yas   maas     sehir\n",
       "0    tuba       350.0   24  300.0  istanbul\n",
       "1    ayse       300.0   19  250.0    yalova\n",
       "2  edanur       290.0   24  240.0    ankara\n",
       "3   derya       400.0   45  350.0     bursa\n",
       "4    arda       230.0   32  180.0     izmir\n",
       "5  mehmet       270.0   14  220.0   antalya"
      ]
     },
     "execution_count": 144,
     "metadata": {},
     "output_type": "execute_result"
    }
   ],
   "source": [
    "veri"
   ]
  },
  {
   "cell_type": "code",
   "execution_count": 146,
   "id": "e6a0833c-896f-4d01-a81d-56d1621033ad",
   "metadata": {},
   "outputs": [
    {
     "data": {
      "text/plain": [
       "0     True\n",
       "1    False\n",
       "2     True\n",
       "3     True\n",
       "4     True\n",
       "5    False\n",
       "Name: yas, dtype: bool"
      ]
     },
     "execution_count": 146,
     "metadata": {},
     "output_type": "execute_result"
    }
   ],
   "source": [
    "filtre1 = veri[\"yas\"] > 22\n",
    "filtre1"
   ]
  },
  {
   "cell_type": "code",
   "execution_count": 148,
   "id": "9be9e39a-151e-45d6-8f77-1e570b2bbeae",
   "metadata": {},
   "outputs": [
    {
     "data": {
      "text/html": [
       "<div>\n",
       "<style scoped>\n",
       "    .dataframe tbody tr th:only-of-type {\n",
       "        vertical-align: middle;\n",
       "    }\n",
       "\n",
       "    .dataframe tbody tr th {\n",
       "        vertical-align: top;\n",
       "    }\n",
       "\n",
       "    .dataframe thead th {\n",
       "        text-align: right;\n",
       "    }\n",
       "</style>\n",
       "<table border=\"1\" class=\"dataframe\">\n",
       "  <thead>\n",
       "    <tr style=\"text-align: right;\">\n",
       "      <th></th>\n",
       "      <th>isim</th>\n",
       "      <th>maas_zamli</th>\n",
       "      <th>yas</th>\n",
       "      <th>maas</th>\n",
       "      <th>sehir</th>\n",
       "    </tr>\n",
       "  </thead>\n",
       "  <tbody>\n",
       "    <tr>\n",
       "      <th>0</th>\n",
       "      <td>tuba</td>\n",
       "      <td>350.0</td>\n",
       "      <td>24</td>\n",
       "      <td>300.0</td>\n",
       "      <td>istanbul</td>\n",
       "    </tr>\n",
       "    <tr>\n",
       "      <th>2</th>\n",
       "      <td>edanur</td>\n",
       "      <td>290.0</td>\n",
       "      <td>24</td>\n",
       "      <td>240.0</td>\n",
       "      <td>ankara</td>\n",
       "    </tr>\n",
       "    <tr>\n",
       "      <th>3</th>\n",
       "      <td>derya</td>\n",
       "      <td>400.0</td>\n",
       "      <td>45</td>\n",
       "      <td>350.0</td>\n",
       "      <td>bursa</td>\n",
       "    </tr>\n",
       "    <tr>\n",
       "      <th>4</th>\n",
       "      <td>arda</td>\n",
       "      <td>230.0</td>\n",
       "      <td>32</td>\n",
       "      <td>180.0</td>\n",
       "      <td>izmir</td>\n",
       "    </tr>\n",
       "  </tbody>\n",
       "</table>\n",
       "</div>"
      ],
      "text/plain": [
       "     isim  maas_zamli  yas   maas     sehir\n",
       "0    tuba       350.0   24  300.0  istanbul\n",
       "2  edanur       290.0   24  240.0    ankara\n",
       "3   derya       400.0   45  350.0     bursa\n",
       "4    arda       230.0   32  180.0     izmir"
      ]
     },
     "execution_count": 148,
     "metadata": {},
     "output_type": "execute_result"
    }
   ],
   "source": [
    "filtrelenmis_veri = veri[filtre1]\n",
    "filtrelenmis_veri"
   ]
  },
  {
   "cell_type": "code",
   "execution_count": 150,
   "id": "38965bcb-e475-4ca4-a077-2cb505c7b364",
   "metadata": {},
   "outputs": [
    {
     "data": {
      "text/html": [
       "<div>\n",
       "<style scoped>\n",
       "    .dataframe tbody tr th:only-of-type {\n",
       "        vertical-align: middle;\n",
       "    }\n",
       "\n",
       "    .dataframe tbody tr th {\n",
       "        vertical-align: top;\n",
       "    }\n",
       "\n",
       "    .dataframe thead th {\n",
       "        text-align: right;\n",
       "    }\n",
       "</style>\n",
       "<table border=\"1\" class=\"dataframe\">\n",
       "  <thead>\n",
       "    <tr style=\"text-align: right;\">\n",
       "      <th></th>\n",
       "      <th>isim</th>\n",
       "      <th>maas_zamli</th>\n",
       "      <th>yas</th>\n",
       "      <th>maas</th>\n",
       "      <th>sehir</th>\n",
       "    </tr>\n",
       "  </thead>\n",
       "  <tbody>\n",
       "    <tr>\n",
       "      <th>0</th>\n",
       "      <td>tuba</td>\n",
       "      <td>350.0</td>\n",
       "      <td>24</td>\n",
       "      <td>300.0</td>\n",
       "      <td>istanbul</td>\n",
       "    </tr>\n",
       "  </tbody>\n",
       "</table>\n",
       "</div>"
      ],
      "text/plain": [
       "   isim  maas_zamli  yas   maas     sehir\n",
       "0  tuba       350.0   24  300.0  istanbul"
      ]
     },
     "execution_count": 150,
     "metadata": {},
     "output_type": "execute_result"
    }
   ],
   "source": [
    "filtre2 = veri[\"sehir\"] == \"istanbul\"\n",
    "veri[filtre2]"
   ]
  },
  {
   "cell_type": "code",
   "execution_count": 152,
   "id": "5b842519-ec39-40d5-9271-7d6752cdca77",
   "metadata": {},
   "outputs": [
    {
     "data": {
      "text/html": [
       "<div>\n",
       "<style scoped>\n",
       "    .dataframe tbody tr th:only-of-type {\n",
       "        vertical-align: middle;\n",
       "    }\n",
       "\n",
       "    .dataframe tbody tr th {\n",
       "        vertical-align: top;\n",
       "    }\n",
       "\n",
       "    .dataframe thead th {\n",
       "        text-align: right;\n",
       "    }\n",
       "</style>\n",
       "<table border=\"1\" class=\"dataframe\">\n",
       "  <thead>\n",
       "    <tr style=\"text-align: right;\">\n",
       "      <th></th>\n",
       "      <th>isim</th>\n",
       "      <th>maas_zamli</th>\n",
       "      <th>yas</th>\n",
       "      <th>maas</th>\n",
       "      <th>sehir</th>\n",
       "    </tr>\n",
       "  </thead>\n",
       "  <tbody>\n",
       "    <tr>\n",
       "      <th>0</th>\n",
       "      <td>tuba</td>\n",
       "      <td>350.0</td>\n",
       "      <td>24</td>\n",
       "      <td>300.0</td>\n",
       "      <td>istanbul</td>\n",
       "    </tr>\n",
       "  </tbody>\n",
       "</table>\n",
       "</div>"
      ],
      "text/plain": [
       "   isim  maas_zamli  yas   maas     sehir\n",
       "0  tuba       350.0   24  300.0  istanbul"
      ]
     },
     "execution_count": 152,
     "metadata": {},
     "output_type": "execute_result"
    }
   ],
   "source": [
    "veri[filtre1 & filtre2]"
   ]
  },
  {
   "cell_type": "code",
   "execution_count": 157,
   "id": "b9055883-571b-4617-b7b1-41115d302902",
   "metadata": {},
   "outputs": [
    {
     "data": {
      "text/html": [
       "<div>\n",
       "<style scoped>\n",
       "    .dataframe tbody tr th:only-of-type {\n",
       "        vertical-align: middle;\n",
       "    }\n",
       "\n",
       "    .dataframe tbody tr th {\n",
       "        vertical-align: top;\n",
       "    }\n",
       "\n",
       "    .dataframe thead th {\n",
       "        text-align: right;\n",
       "    }\n",
       "</style>\n",
       "<table border=\"1\" class=\"dataframe\">\n",
       "  <thead>\n",
       "    <tr style=\"text-align: right;\">\n",
       "      <th></th>\n",
       "      <th>isim</th>\n",
       "      <th>maas_zamli</th>\n",
       "      <th>yas</th>\n",
       "      <th>maas</th>\n",
       "      <th>sehir</th>\n",
       "    </tr>\n",
       "  </thead>\n",
       "  <tbody>\n",
       "    <tr>\n",
       "      <th>2</th>\n",
       "      <td>edanur</td>\n",
       "      <td>290.0</td>\n",
       "      <td>24</td>\n",
       "      <td>240.0</td>\n",
       "      <td>ankara</td>\n",
       "    </tr>\n",
       "  </tbody>\n",
       "</table>\n",
       "</div>"
      ],
      "text/plain": [
       "     isim  maas_zamli  yas   maas   sehir\n",
       "2  edanur       290.0   24  240.0  ankara"
      ]
     },
     "execution_count": 157,
     "metadata": {},
     "output_type": "execute_result"
    }
   ],
   "source": [
    "filtre3 = veri[\"isim\"] == \"edanur\"\n",
    "veri[filtre3]"
   ]
  },
  {
   "cell_type": "code",
   "execution_count": 159,
   "id": "309fad3d-3768-4581-adc5-54f3ae5304ed",
   "metadata": {},
   "outputs": [
    {
     "data": {
      "text/plain": [
       "0    False\n",
       "1    False\n",
       "2     True\n",
       "3    False\n",
       "4    False\n",
       "5    False\n",
       "dtype: bool"
      ]
     },
     "execution_count": 159,
     "metadata": {},
     "output_type": "execute_result"
    }
   ],
   "source": [
    "import numpy as np\n",
    "np.bitwise_and(veri[\"sehir\"] == \"ankara\", veri[\"yas\"] > 22)"
   ]
  },
  {
   "cell_type": "code",
   "execution_count": 161,
   "id": "9c8443a1-1b38-48c4-af23-01eb566e932f",
   "metadata": {},
   "outputs": [
    {
     "name": "stdout",
     "output_type": "stream",
     "text": [
      "     isim  maas_zamli  yas   maas   sehir\n",
      "2  edanur       290.0   24  240.0  ankara\n"
     ]
    }
   ],
   "source": [
    "filtered_veri = veri.loc[(veri[\"sehir\"] == \"ankara\") & (veri[\"yas\"] > 22)]\n",
    "print(filtered_veri)"
   ]
  },
  {
   "cell_type": "code",
   "execution_count": 181,
   "id": "7f523c83-cf39-4d2d-9a92-f7fd20773fed",
   "metadata": {},
   "outputs": [
    {
     "data": {
      "text/html": [
       "<div>\n",
       "<style scoped>\n",
       "    .dataframe tbody tr th:only-of-type {\n",
       "        vertical-align: middle;\n",
       "    }\n",
       "\n",
       "    .dataframe tbody tr th {\n",
       "        vertical-align: top;\n",
       "    }\n",
       "\n",
       "    .dataframe thead th {\n",
       "        text-align: right;\n",
       "    }\n",
       "</style>\n",
       "<table border=\"1\" class=\"dataframe\">\n",
       "  <thead>\n",
       "    <tr style=\"text-align: right;\">\n",
       "      <th></th>\n",
       "      <th>isim</th>\n",
       "      <th>yas</th>\n",
       "      <th>sehir</th>\n",
       "    </tr>\n",
       "  </thead>\n",
       "  <tbody>\n",
       "    <tr>\n",
       "      <th>0</th>\n",
       "      <td>tuba</td>\n",
       "      <td>24</td>\n",
       "      <td>istanbul</td>\n",
       "    </tr>\n",
       "    <tr>\n",
       "      <th>1</th>\n",
       "      <td>edanur</td>\n",
       "      <td>26</td>\n",
       "      <td>ankara</td>\n",
       "    </tr>\n",
       "    <tr>\n",
       "      <th>2</th>\n",
       "      <td>mehmet</td>\n",
       "      <td>27</td>\n",
       "      <td>izmir</td>\n",
       "    </tr>\n",
       "    <tr>\n",
       "      <th>3</th>\n",
       "      <td>burak</td>\n",
       "      <td>33</td>\n",
       "      <td>ankara</td>\n",
       "    </tr>\n",
       "    <tr>\n",
       "      <th>4</th>\n",
       "      <td>ayse</td>\n",
       "      <td>45</td>\n",
       "      <td>ankara</td>\n",
       "    </tr>\n",
       "    <tr>\n",
       "      <th>5</th>\n",
       "      <td>derya</td>\n",
       "      <td>40</td>\n",
       "      <td>antalya</td>\n",
       "    </tr>\n",
       "  </tbody>\n",
       "</table>\n",
       "</div>"
      ],
      "text/plain": [
       "     isim  yas     sehir\n",
       "0    tuba   24  istanbul\n",
       "1  edanur   26    ankara\n",
       "2  mehmet   27     izmir\n",
       "3   burak   33    ankara\n",
       "4    ayse   45    ankara\n",
       "5   derya   40   antalya"
      ]
     },
     "execution_count": 181,
     "metadata": {},
     "output_type": "execute_result"
    }
   ],
   "source": [
    "dictionary = {\"isim\": [\"tuba\", \"edanur\", \"mehmet\", \"burak\", \"ayse\", \"derya\"],\n",
    "              \"yas\": [24, 26, 27, 33, 45 , 40],\n",
    "              \"sehir\": [\"istanbul\", \"ankara\", \"izmir\", \"ankara\", \"ankara\",\"antalya\"]}\n",
    "veri=pd.DataFrame(dictionary)\n",
    "veri"
   ]
  },
  {
   "cell_type": "code",
   "execution_count": 183,
   "id": "a6ae087e-a89e-444c-9ce6-e8399a5fd202",
   "metadata": {},
   "outputs": [
    {
     "data": {
      "text/html": [
       "<div>\n",
       "<style scoped>\n",
       "    .dataframe tbody tr th:only-of-type {\n",
       "        vertical-align: middle;\n",
       "    }\n",
       "\n",
       "    .dataframe tbody tr th {\n",
       "        vertical-align: top;\n",
       "    }\n",
       "\n",
       "    .dataframe thead th {\n",
       "        text-align: right;\n",
       "    }\n",
       "</style>\n",
       "<table border=\"1\" class=\"dataframe\">\n",
       "  <thead>\n",
       "    <tr style=\"text-align: right;\">\n",
       "      <th></th>\n",
       "      <th>isim</th>\n",
       "      <th>yas</th>\n",
       "      <th>sehir</th>\n",
       "      <th>maas</th>\n",
       "    </tr>\n",
       "  </thead>\n",
       "  <tbody>\n",
       "    <tr>\n",
       "      <th>0</th>\n",
       "      <td>tuba</td>\n",
       "      <td>24</td>\n",
       "      <td>istanbul</td>\n",
       "      <td>500</td>\n",
       "    </tr>\n",
       "    <tr>\n",
       "      <th>1</th>\n",
       "      <td>edanur</td>\n",
       "      <td>26</td>\n",
       "      <td>ankara</td>\n",
       "      <td>200</td>\n",
       "    </tr>\n",
       "    <tr>\n",
       "      <th>2</th>\n",
       "      <td>mehmet</td>\n",
       "      <td>27</td>\n",
       "      <td>izmir</td>\n",
       "      <td>300</td>\n",
       "    </tr>\n",
       "    <tr>\n",
       "      <th>3</th>\n",
       "      <td>burak</td>\n",
       "      <td>33</td>\n",
       "      <td>ankara</td>\n",
       "      <td>400</td>\n",
       "    </tr>\n",
       "    <tr>\n",
       "      <th>4</th>\n",
       "      <td>ayse</td>\n",
       "      <td>45</td>\n",
       "      <td>ankara</td>\n",
       "      <td>500</td>\n",
       "    </tr>\n",
       "    <tr>\n",
       "      <th>5</th>\n",
       "      <td>derya</td>\n",
       "      <td>40</td>\n",
       "      <td>antalya</td>\n",
       "      <td>600</td>\n",
       "    </tr>\n",
       "  </tbody>\n",
       "</table>\n",
       "</div>"
      ],
      "text/plain": [
       "     isim  yas     sehir  maas\n",
       "0    tuba   24  istanbul   500\n",
       "1  edanur   26    ankara   200\n",
       "2  mehmet   27     izmir   300\n",
       "3   burak   33    ankara   400\n",
       "4    ayse   45    ankara   500\n",
       "5   derya   40   antalya   600"
      ]
     },
     "execution_count": 183,
     "metadata": {},
     "output_type": "execute_result"
    }
   ],
   "source": [
    "#maas sutunu ekleme\n",
    "veri[\"maas\"]=[500,200,300,400,500,600]\n",
    "veri"
   ]
  },
  {
   "cell_type": "code",
   "execution_count": 187,
   "id": "60f9f097-5d49-49fe-827f-f3c0ed9139a1",
   "metadata": {},
   "outputs": [
    {
     "data": {
      "text/html": [
       "<div>\n",
       "<style scoped>\n",
       "    .dataframe tbody tr th:only-of-type {\n",
       "        vertical-align: middle;\n",
       "    }\n",
       "\n",
       "    .dataframe tbody tr th {\n",
       "        vertical-align: top;\n",
       "    }\n",
       "\n",
       "    .dataframe thead th {\n",
       "        text-align: right;\n",
       "    }\n",
       "</style>\n",
       "<table border=\"1\" class=\"dataframe\">\n",
       "  <thead>\n",
       "    <tr style=\"text-align: right;\">\n",
       "      <th></th>\n",
       "      <th>isim</th>\n",
       "      <th>yas</th>\n",
       "      <th>sehir</th>\n",
       "      <th>maas</th>\n",
       "      <th>yas_maas</th>\n",
       "    </tr>\n",
       "  </thead>\n",
       "  <tbody>\n",
       "    <tr>\n",
       "      <th>0</th>\n",
       "      <td>tuba</td>\n",
       "      <td>24</td>\n",
       "      <td>istanbul</td>\n",
       "      <td>500</td>\n",
       "      <td>0.048000</td>\n",
       "    </tr>\n",
       "    <tr>\n",
       "      <th>1</th>\n",
       "      <td>edanur</td>\n",
       "      <td>26</td>\n",
       "      <td>ankara</td>\n",
       "      <td>200</td>\n",
       "      <td>0.130000</td>\n",
       "    </tr>\n",
       "    <tr>\n",
       "      <th>2</th>\n",
       "      <td>mehmet</td>\n",
       "      <td>27</td>\n",
       "      <td>izmir</td>\n",
       "      <td>300</td>\n",
       "      <td>0.090000</td>\n",
       "    </tr>\n",
       "    <tr>\n",
       "      <th>3</th>\n",
       "      <td>burak</td>\n",
       "      <td>33</td>\n",
       "      <td>ankara</td>\n",
       "      <td>400</td>\n",
       "      <td>0.082500</td>\n",
       "    </tr>\n",
       "    <tr>\n",
       "      <th>4</th>\n",
       "      <td>ayse</td>\n",
       "      <td>45</td>\n",
       "      <td>ankara</td>\n",
       "      <td>500</td>\n",
       "      <td>0.090000</td>\n",
       "    </tr>\n",
       "    <tr>\n",
       "      <th>5</th>\n",
       "      <td>derya</td>\n",
       "      <td>40</td>\n",
       "      <td>antalya</td>\n",
       "      <td>600</td>\n",
       "      <td>0.066667</td>\n",
       "    </tr>\n",
       "  </tbody>\n",
       "</table>\n",
       "</div>"
      ],
      "text/plain": [
       "     isim  yas     sehir  maas  yas_maas\n",
       "0    tuba   24  istanbul   500  0.048000\n",
       "1  edanur   26    ankara   200  0.130000\n",
       "2  mehmet   27     izmir   300  0.090000\n",
       "3   burak   33    ankara   400  0.082500\n",
       "4    ayse   45    ankara   500  0.090000\n",
       "5   derya   40   antalya   600  0.066667"
      ]
     },
     "execution_count": 187,
     "metadata": {},
     "output_type": "execute_result"
    }
   ],
   "source": [
    "#yas/maas orani sutunu ekleme\n",
    "veri[\"yas_maas\"] = veri[\"yas\"] / veri[\"maas\"]\n",
    "veri"
   ]
  },
  {
   "cell_type": "code",
   "execution_count": 189,
   "id": "8aee9942-f113-4f9a-ba14-8f67441d1ad0",
   "metadata": {},
   "outputs": [
    {
     "data": {
      "text/plain": [
       "0.08452777777777777"
      ]
     },
     "execution_count": 189,
     "metadata": {},
     "output_type": "execute_result"
    }
   ],
   "source": [
    " #yas/maas sutunu icin ortalamayi print ettirme\n",
    "np.mean(veri[\"yas_maas\"])"
   ]
  },
  {
   "cell_type": "code",
   "execution_count": 191,
   "id": "f86a5b17-c8c1-4c6b-b591-69789067a7f9",
   "metadata": {},
   "outputs": [
    {
     "data": {
      "text/html": [
       "<div>\n",
       "<style scoped>\n",
       "    .dataframe tbody tr th:only-of-type {\n",
       "        vertical-align: middle;\n",
       "    }\n",
       "\n",
       "    .dataframe tbody tr th {\n",
       "        vertical-align: top;\n",
       "    }\n",
       "\n",
       "    .dataframe thead th {\n",
       "        text-align: right;\n",
       "    }\n",
       "</style>\n",
       "<table border=\"1\" class=\"dataframe\">\n",
       "  <thead>\n",
       "    <tr style=\"text-align: right;\">\n",
       "      <th></th>\n",
       "      <th>isim</th>\n",
       "      <th>yas</th>\n",
       "      <th>sehir</th>\n",
       "      <th>maas</th>\n",
       "      <th>yas_maas</th>\n",
       "      <th>ulke</th>\n",
       "    </tr>\n",
       "  </thead>\n",
       "  <tbody>\n",
       "    <tr>\n",
       "      <th>0</th>\n",
       "      <td>tuba</td>\n",
       "      <td>24</td>\n",
       "      <td>istanbul</td>\n",
       "      <td>500</td>\n",
       "      <td>0.048000</td>\n",
       "      <td>turkiye</td>\n",
       "    </tr>\n",
       "    <tr>\n",
       "      <th>1</th>\n",
       "      <td>edanur</td>\n",
       "      <td>26</td>\n",
       "      <td>ankara</td>\n",
       "      <td>200</td>\n",
       "      <td>0.130000</td>\n",
       "      <td>turkiye</td>\n",
       "    </tr>\n",
       "    <tr>\n",
       "      <th>2</th>\n",
       "      <td>mehmet</td>\n",
       "      <td>27</td>\n",
       "      <td>izmir</td>\n",
       "      <td>300</td>\n",
       "      <td>0.090000</td>\n",
       "      <td>turkiye</td>\n",
       "    </tr>\n",
       "    <tr>\n",
       "      <th>3</th>\n",
       "      <td>burak</td>\n",
       "      <td>33</td>\n",
       "      <td>ankara</td>\n",
       "      <td>400</td>\n",
       "      <td>0.082500</td>\n",
       "      <td>turkiye</td>\n",
       "    </tr>\n",
       "    <tr>\n",
       "      <th>4</th>\n",
       "      <td>ayse</td>\n",
       "      <td>45</td>\n",
       "      <td>ankara</td>\n",
       "      <td>500</td>\n",
       "      <td>0.090000</td>\n",
       "      <td>turkiye</td>\n",
       "    </tr>\n",
       "    <tr>\n",
       "      <th>5</th>\n",
       "      <td>derya</td>\n",
       "      <td>40</td>\n",
       "      <td>antalya</td>\n",
       "      <td>600</td>\n",
       "      <td>0.066667</td>\n",
       "      <td>turkiye</td>\n",
       "    </tr>\n",
       "  </tbody>\n",
       "</table>\n",
       "</div>"
      ],
      "text/plain": [
       "     isim  yas     sehir  maas  yas_maas     ulke\n",
       "0    tuba   24  istanbul   500  0.048000  turkiye\n",
       "1  edanur   26    ankara   200  0.130000  turkiye\n",
       "2  mehmet   27     izmir   300  0.090000  turkiye\n",
       "3   burak   33    ankara   400  0.082500  turkiye\n",
       "4    ayse   45    ankara   500  0.090000  turkiye\n",
       "5   derya   40   antalya   600  0.066667  turkiye"
      ]
     },
     "execution_count": 191,
     "metadata": {},
     "output_type": "execute_result"
    }
   ],
   "source": [
    "veri[\"ulke\"] = [\"turkiye\"]*len(veri)\n",
    "veri"
   ]
  },
  {
   "cell_type": "code",
   "execution_count": 211,
   "id": "fe268a43-5218-4283-8e26-990ab0849e3c",
   "metadata": {},
   "outputs": [
    {
     "data": {
      "text/html": [
       "<div>\n",
       "<style scoped>\n",
       "    .dataframe tbody tr th:only-of-type {\n",
       "        vertical-align: middle;\n",
       "    }\n",
       "\n",
       "    .dataframe tbody tr th {\n",
       "        vertical-align: top;\n",
       "    }\n",
       "\n",
       "    .dataframe thead th {\n",
       "        text-align: right;\n",
       "    }\n",
       "</style>\n",
       "<table border=\"1\" class=\"dataframe\">\n",
       "  <thead>\n",
       "    <tr style=\"text-align: right;\">\n",
       "      <th></th>\n",
       "      <th>isim</th>\n",
       "      <th>yas</th>\n",
       "      <th>sehir</th>\n",
       "      <th>maas</th>\n",
       "      <th>yas_maas</th>\n",
       "      <th>ulke</th>\n",
       "    </tr>\n",
       "  </thead>\n",
       "  <tbody>\n",
       "    <tr>\n",
       "      <th>1</th>\n",
       "      <td>edanur</td>\n",
       "      <td>26</td>\n",
       "      <td>ankara</td>\n",
       "      <td>200</td>\n",
       "      <td>0.1300</td>\n",
       "      <td>turkiye</td>\n",
       "    </tr>\n",
       "    <tr>\n",
       "      <th>3</th>\n",
       "      <td>burak</td>\n",
       "      <td>33</td>\n",
       "      <td>ankara</td>\n",
       "      <td>400</td>\n",
       "      <td>0.0825</td>\n",
       "      <td>turkiye</td>\n",
       "    </tr>\n",
       "    <tr>\n",
       "      <th>4</th>\n",
       "      <td>ayse</td>\n",
       "      <td>45</td>\n",
       "      <td>ankara</td>\n",
       "      <td>500</td>\n",
       "      <td>0.0900</td>\n",
       "      <td>turkiye</td>\n",
       "    </tr>\n",
       "  </tbody>\n",
       "</table>\n",
       "</div>"
      ],
      "text/plain": [
       "     isim  yas   sehir  maas  yas_maas     ulke\n",
       "1  edanur   26  ankara   200    0.1300  turkiye\n",
       "3   burak   33  ankara   400    0.0825  turkiye\n",
       "4    ayse   45  ankara   500    0.0900  turkiye"
      ]
     },
     "execution_count": 211,
     "metadata": {},
     "output_type": "execute_result"
    }
   ],
   "source": [
    "#ankarada yasayanlarin ortalama yasini bul\n",
    "ankarada_yasayanlar = veri[veri[\"sehir\"] == \"ankara\"]\n",
    "ankarada_yasayanlar"
   ]
  },
  {
   "cell_type": "code",
   "execution_count": 213,
   "id": "953eca3f-adac-4c1c-9ad1-fcfaef0f1f87",
   "metadata": {},
   "outputs": [
    {
     "data": {
      "text/plain": [
       "1    26\n",
       "3    33\n",
       "4    45\n",
       "Name: yas, dtype: int64"
      ]
     },
     "execution_count": 213,
     "metadata": {},
     "output_type": "execute_result"
    }
   ],
   "source": [
    "#ankarada yasayanlarin ortalama yasini bul\n",
    "ankarada_yasayanlar_yas = ankarada_yasayanlar[\"yas\"]\n",
    "ankarada_yasayanlar_yas"
   ]
  },
  {
   "cell_type": "code",
   "execution_count": 215,
   "id": "9d674ef4-cf3a-4f48-9d01-1946a1cba233",
   "metadata": {},
   "outputs": [
    {
     "data": {
      "text/plain": [
       "34.666666666666664"
      ]
     },
     "execution_count": 215,
     "metadata": {},
     "output_type": "execute_result"
    }
   ],
   "source": [
    "#ankarada yasayanlarin ortalama yasini bul\n",
    "ort = np.mean(ankarada_yasayanlar_yas)\n",
    "ort"
   ]
  },
  {
   "cell_type": "code",
   "execution_count": 217,
   "id": "b2a3702a-5f5f-4061-bd31-af48afcbd02a",
   "metadata": {},
   "outputs": [
    {
     "data": {
      "text/html": [
       "<div>\n",
       "<style scoped>\n",
       "    .dataframe tbody tr th:only-of-type {\n",
       "        vertical-align: middle;\n",
       "    }\n",
       "\n",
       "    .dataframe tbody tr th {\n",
       "        vertical-align: top;\n",
       "    }\n",
       "\n",
       "    .dataframe thead th {\n",
       "        text-align: right;\n",
       "    }\n",
       "</style>\n",
       "<table border=\"1\" class=\"dataframe\">\n",
       "  <thead>\n",
       "    <tr style=\"text-align: right;\">\n",
       "      <th></th>\n",
       "      <th>isim</th>\n",
       "      <th>yas</th>\n",
       "      <th>sehir</th>\n",
       "      <th>maas</th>\n",
       "      <th>yas_maas</th>\n",
       "      <th>ulke</th>\n",
       "    </tr>\n",
       "  </thead>\n",
       "  <tbody>\n",
       "    <tr>\n",
       "      <th>1</th>\n",
       "      <td>edanur</td>\n",
       "      <td>26</td>\n",
       "      <td>ankara</td>\n",
       "      <td>200</td>\n",
       "      <td>0.1300</td>\n",
       "      <td>turkiye</td>\n",
       "    </tr>\n",
       "    <tr>\n",
       "      <th>3</th>\n",
       "      <td>burak</td>\n",
       "      <td>33</td>\n",
       "      <td>ankara</td>\n",
       "      <td>400</td>\n",
       "      <td>0.0825</td>\n",
       "      <td>turkiye</td>\n",
       "    </tr>\n",
       "    <tr>\n",
       "      <th>4</th>\n",
       "      <td>ayse</td>\n",
       "      <td>45</td>\n",
       "      <td>ankara</td>\n",
       "      <td>500</td>\n",
       "      <td>0.0900</td>\n",
       "      <td>turkiye</td>\n",
       "    </tr>\n",
       "  </tbody>\n",
       "</table>\n",
       "</div>"
      ],
      "text/plain": [
       "     isim  yas   sehir  maas  yas_maas     ulke\n",
       "1  edanur   26  ankara   200    0.1300  turkiye\n",
       "3   burak   33  ankara   400    0.0825  turkiye\n",
       "4    ayse   45  ankara   500    0.0900  turkiye"
      ]
     },
     "execution_count": 217,
     "metadata": {},
     "output_type": "execute_result"
    }
   ],
   "source": [
    "#ankarada yasayanlarin icinden en yuksek maas alani bul\n",
    "ankarada_yasayanlar = veri[veri[\"sehir\"] == \"ankara\"]\n",
    "ankarada_yasayanlar"
   ]
  },
  {
   "cell_type": "code",
   "execution_count": 219,
   "id": "409b05ef-4faf-4098-beb6-fc0a0479b20f",
   "metadata": {},
   "outputs": [
    {
     "data": {
      "text/plain": [
       "1    200\n",
       "3    400\n",
       "4    500\n",
       "Name: maas, dtype: int64"
      ]
     },
     "execution_count": 219,
     "metadata": {},
     "output_type": "execute_result"
    }
   ],
   "source": [
    "#ankarada yasayanlarin icinden en yuksek maas alani bul\n",
    "ankarada_yasayanlar_maas = ankarada_yasayanlar[\"maas\"]\n",
    "ankarada_yasayanlar_maas"
   ]
  },
  {
   "cell_type": "code",
   "execution_count": 221,
   "id": "4791d054-6a2c-459d-be6c-ec45e461f046",
   "metadata": {},
   "outputs": [
    {
     "data": {
      "text/plain": [
       "500"
      ]
     },
     "execution_count": 221,
     "metadata": {},
     "output_type": "execute_result"
    }
   ],
   "source": [
    "#ankarada yasayanlarin icinden en yuksek maas alani bul\n",
    "np.max(ankarada_yasayanlar_maas)"
   ]
  },
  {
   "cell_type": "code",
   "execution_count": 223,
   "id": "7ed6b548-8e0b-44ef-a86d-34186c078924",
   "metadata": {},
   "outputs": [
    {
     "data": {
      "text/html": [
       "<div>\n",
       "<style scoped>\n",
       "    .dataframe tbody tr th:only-of-type {\n",
       "        vertical-align: middle;\n",
       "    }\n",
       "\n",
       "    .dataframe tbody tr th {\n",
       "        vertical-align: top;\n",
       "    }\n",
       "\n",
       "    .dataframe thead th {\n",
       "        text-align: right;\n",
       "    }\n",
       "</style>\n",
       "<table border=\"1\" class=\"dataframe\">\n",
       "  <thead>\n",
       "    <tr style=\"text-align: right;\">\n",
       "      <th></th>\n",
       "      <th>isim</th>\n",
       "      <th>yas</th>\n",
       "      <th>sehir</th>\n",
       "      <th>maas</th>\n",
       "      <th>yas_maas</th>\n",
       "      <th>ulke</th>\n",
       "    </tr>\n",
       "  </thead>\n",
       "  <tbody>\n",
       "    <tr>\n",
       "      <th>1</th>\n",
       "      <td>edanur</td>\n",
       "      <td>26</td>\n",
       "      <td>ankara</td>\n",
       "      <td>200</td>\n",
       "      <td>0.1300</td>\n",
       "      <td>turkiye</td>\n",
       "    </tr>\n",
       "    <tr>\n",
       "      <th>3</th>\n",
       "      <td>burak</td>\n",
       "      <td>33</td>\n",
       "      <td>ankara</td>\n",
       "      <td>400</td>\n",
       "      <td>0.0825</td>\n",
       "      <td>turkiye</td>\n",
       "    </tr>\n",
       "    <tr>\n",
       "      <th>4</th>\n",
       "      <td>ayse</td>\n",
       "      <td>45</td>\n",
       "      <td>ankara</td>\n",
       "      <td>500</td>\n",
       "      <td>0.0900</td>\n",
       "      <td>turkiye</td>\n",
       "    </tr>\n",
       "  </tbody>\n",
       "</table>\n",
       "</div>"
      ],
      "text/plain": [
       "     isim  yas   sehir  maas  yas_maas     ulke\n",
       "1  edanur   26  ankara   200    0.1300  turkiye\n",
       "3   burak   33  ankara   400    0.0825  turkiye\n",
       "4    ayse   45  ankara   500    0.0900  turkiye"
      ]
     },
     "execution_count": 223,
     "metadata": {},
     "output_type": "execute_result"
    }
   ],
   "source": [
    "ankarada_yasayanlar"
   ]
  },
  {
   "cell_type": "code",
   "execution_count": 230,
   "id": "3130c3cc-5701-4600-8bc2-96f56f2d2cfd",
   "metadata": {},
   "outputs": [
    {
     "name": "stdout",
     "output_type": "stream",
     "text": [
      "ayse\n"
     ]
    }
   ],
   "source": [
    "#ankarada maximum maas alanin ismi\n",
    "maks_maas = 0\n",
    "maks_isim = \"\"\n",
    "for i in range(len(ankarada_yasayanlar)):\n",
    "    if ankarada_yasayanlar[\"maas\"][i] > maks_maas:\n",
    "        maks_maas = ankarada_yasayanlar[\"maas\"][i]\n",
    "        maks_isim = ankarada_yasayanlar[\"isim\"][i]\n",
    "\n",
    "print(maks_isim)"
   ]
  },
  {
   "cell_type": "code",
   "execution_count": 232,
   "id": "4e38be71-0b06-47af-b64b-444d79b37ef6",
   "metadata": {},
   "outputs": [
    {
     "data": {
      "text/plain": [
       "'ayse'"
      ]
     },
     "execution_count": 232,
     "metadata": {},
     "output_type": "execute_result"
    }
   ],
   "source": [
    "ankarada_yasayanlar.loc[ankarada_yasayanlar[\"maas\"].idxmax(), \"isim\"]"
   ]
  },
  {
   "cell_type": "code",
   "execution_count": 234,
   "id": "d48982ba-61c7-42e8-8432-13cd6b2e6a86",
   "metadata": {},
   "outputs": [
    {
     "data": {
      "text/html": [
       "<div>\n",
       "<style scoped>\n",
       "    .dataframe tbody tr th:only-of-type {\n",
       "        vertical-align: middle;\n",
       "    }\n",
       "\n",
       "    .dataframe tbody tr th {\n",
       "        vertical-align: top;\n",
       "    }\n",
       "\n",
       "    .dataframe thead th {\n",
       "        text-align: right;\n",
       "    }\n",
       "</style>\n",
       "<table border=\"1\" class=\"dataframe\">\n",
       "  <thead>\n",
       "    <tr style=\"text-align: right;\">\n",
       "      <th></th>\n",
       "      <th>isim</th>\n",
       "      <th>yas</th>\n",
       "      <th>sehir</th>\n",
       "      <th>maas</th>\n",
       "      <th>yas_maas</th>\n",
       "      <th>ulke</th>\n",
       "    </tr>\n",
       "  </thead>\n",
       "  <tbody>\n",
       "    <tr>\n",
       "      <th>0</th>\n",
       "      <td>tuba</td>\n",
       "      <td>24</td>\n",
       "      <td>istanbul</td>\n",
       "      <td>500</td>\n",
       "      <td>0.048000</td>\n",
       "      <td>turkiye</td>\n",
       "    </tr>\n",
       "    <tr>\n",
       "      <th>1</th>\n",
       "      <td>edanur</td>\n",
       "      <td>26</td>\n",
       "      <td>ankara</td>\n",
       "      <td>200</td>\n",
       "      <td>0.130000</td>\n",
       "      <td>turkiye</td>\n",
       "    </tr>\n",
       "    <tr>\n",
       "      <th>2</th>\n",
       "      <td>mehmet</td>\n",
       "      <td>27</td>\n",
       "      <td>izmir</td>\n",
       "      <td>300</td>\n",
       "      <td>0.090000</td>\n",
       "      <td>turkiye</td>\n",
       "    </tr>\n",
       "    <tr>\n",
       "      <th>3</th>\n",
       "      <td>burak</td>\n",
       "      <td>33</td>\n",
       "      <td>ankara</td>\n",
       "      <td>400</td>\n",
       "      <td>0.082500</td>\n",
       "      <td>turkiye</td>\n",
       "    </tr>\n",
       "    <tr>\n",
       "      <th>4</th>\n",
       "      <td>ayse</td>\n",
       "      <td>45</td>\n",
       "      <td>ankara</td>\n",
       "      <td>500</td>\n",
       "      <td>0.090000</td>\n",
       "      <td>turkiye</td>\n",
       "    </tr>\n",
       "    <tr>\n",
       "      <th>5</th>\n",
       "      <td>derya</td>\n",
       "      <td>40</td>\n",
       "      <td>antalya</td>\n",
       "      <td>600</td>\n",
       "      <td>0.066667</td>\n",
       "      <td>turkiye</td>\n",
       "    </tr>\n",
       "  </tbody>\n",
       "</table>\n",
       "</div>"
      ],
      "text/plain": [
       "     isim  yas     sehir  maas  yas_maas     ulke\n",
       "0    tuba   24  istanbul   500  0.048000  turkiye\n",
       "1  edanur   26    ankara   200  0.130000  turkiye\n",
       "2  mehmet   27     izmir   300  0.090000  turkiye\n",
       "3   burak   33    ankara   400  0.082500  turkiye\n",
       "4    ayse   45    ankara   500  0.090000  turkiye\n",
       "5   derya   40   antalya   600  0.066667  turkiye"
      ]
     },
     "execution_count": 234,
     "metadata": {},
     "output_type": "execute_result"
    }
   ],
   "source": [
    "veri"
   ]
  },
  {
   "cell_type": "code",
   "execution_count": 236,
   "id": "81634821-89c0-4a2c-a8f3-557f1adf0e16",
   "metadata": {},
   "outputs": [
    {
     "name": "stdout",
     "output_type": "stream",
     "text": [
      "0    24\n",
      "1    26\n",
      "2    27\n",
      "3    33\n",
      "4    45\n",
      "5    40\n",
      "Name: yas, dtype: int64\n",
      "veri_yas_mean: 32.5\n",
      "['kucuk', 'kucuk', 'kucuk', 'buyuk', 'buyuk', 'buyuk']\n",
      "     isim  yas     sehir  maas  yas_maas     ulke yas_grubu\n",
      "0    tuba   24  istanbul   500  0.048000  turkiye     kucuk\n",
      "1  edanur   26    ankara   200  0.130000  turkiye     kucuk\n",
      "2  mehmet   27     izmir   300  0.090000  turkiye     kucuk\n",
      "3   burak   33    ankara   400  0.082500  turkiye     buyuk\n",
      "4    ayse   45    ankara   500  0.090000  turkiye     buyuk\n",
      "5   derya   40   antalya   600  0.066667  turkiye     buyuk\n"
     ]
    }
   ],
   "source": [
    "veri_yas = veri.yas\n",
    "print(veri_yas)\n",
    "# yas stununun ortalamasini bul\n",
    "veri_yas_mean = np.mean(veri_yas)\n",
    "print(f\"veri_yas_mean: {veri_yas_mean}\")\n",
    "# for dongusu ile insanlarin yasini ortalamaya ile kiyasla\n",
    "# eger yaslari kucuk ise bir listenini icerisine \"kucuk\" yazdir degilse(buyukse) \"buyuk\" yazdir\n",
    "liste_yas_grubu = []\n",
    "for i in range(len(veri_yas)):\n",
    "  dummy_veri_yas = veri_yas[i]\n",
    "  if veri_yas_mean > dummy_veri_yas:\n",
    "    liste_yas_grubu.append(\"kucuk\")\n",
    "  else:\n",
    "    liste_yas_grubu.append(\"buyuk\")\n",
    "print(liste_yas_grubu)\n",
    "veri[\"yas_grubu\"] = liste_yas_grubu\n",
    "print(veri)"
   ]
  },
  {
   "cell_type": "code",
   "execution_count": 240,
   "id": "a888ba90-e141-4594-9e64-d6a2cca767ef",
   "metadata": {},
   "outputs": [
    {
     "data": {
      "text/html": [
       "<div>\n",
       "<style scoped>\n",
       "    .dataframe tbody tr th:only-of-type {\n",
       "        vertical-align: middle;\n",
       "    }\n",
       "\n",
       "    .dataframe tbody tr th {\n",
       "        vertical-align: top;\n",
       "    }\n",
       "\n",
       "    .dataframe thead th {\n",
       "        text-align: right;\n",
       "    }\n",
       "</style>\n",
       "<table border=\"1\" class=\"dataframe\">\n",
       "  <thead>\n",
       "    <tr style=\"text-align: right;\">\n",
       "      <th></th>\n",
       "      <th>isim</th>\n",
       "      <th>yas</th>\n",
       "      <th>sehir</th>\n",
       "      <th>maas</th>\n",
       "      <th>yas_maas</th>\n",
       "      <th>ulke</th>\n",
       "      <th>yas_grubu</th>\n",
       "      <th>yas_grubu2</th>\n",
       "    </tr>\n",
       "  </thead>\n",
       "  <tbody>\n",
       "    <tr>\n",
       "      <th>0</th>\n",
       "      <td>tuba</td>\n",
       "      <td>24</td>\n",
       "      <td>istanbul</td>\n",
       "      <td>500</td>\n",
       "      <td>0.048000</td>\n",
       "      <td>turkiye</td>\n",
       "      <td>kucuk</td>\n",
       "      <td>kucuk</td>\n",
       "    </tr>\n",
       "    <tr>\n",
       "      <th>1</th>\n",
       "      <td>edanur</td>\n",
       "      <td>26</td>\n",
       "      <td>ankara</td>\n",
       "      <td>200</td>\n",
       "      <td>0.130000</td>\n",
       "      <td>turkiye</td>\n",
       "      <td>kucuk</td>\n",
       "      <td>kucuk</td>\n",
       "    </tr>\n",
       "    <tr>\n",
       "      <th>2</th>\n",
       "      <td>mehmet</td>\n",
       "      <td>27</td>\n",
       "      <td>izmir</td>\n",
       "      <td>300</td>\n",
       "      <td>0.090000</td>\n",
       "      <td>turkiye</td>\n",
       "      <td>kucuk</td>\n",
       "      <td>kucuk</td>\n",
       "    </tr>\n",
       "    <tr>\n",
       "      <th>3</th>\n",
       "      <td>burak</td>\n",
       "      <td>33</td>\n",
       "      <td>ankara</td>\n",
       "      <td>400</td>\n",
       "      <td>0.082500</td>\n",
       "      <td>turkiye</td>\n",
       "      <td>buyuk</td>\n",
       "      <td>buyuk</td>\n",
       "    </tr>\n",
       "    <tr>\n",
       "      <th>4</th>\n",
       "      <td>ayse</td>\n",
       "      <td>45</td>\n",
       "      <td>ankara</td>\n",
       "      <td>500</td>\n",
       "      <td>0.090000</td>\n",
       "      <td>turkiye</td>\n",
       "      <td>buyuk</td>\n",
       "      <td>buyuk</td>\n",
       "    </tr>\n",
       "    <tr>\n",
       "      <th>5</th>\n",
       "      <td>derya</td>\n",
       "      <td>40</td>\n",
       "      <td>antalya</td>\n",
       "      <td>600</td>\n",
       "      <td>0.066667</td>\n",
       "      <td>turkiye</td>\n",
       "      <td>buyuk</td>\n",
       "      <td>buyuk</td>\n",
       "    </tr>\n",
       "  </tbody>\n",
       "</table>\n",
       "</div>"
      ],
      "text/plain": [
       "     isim  yas     sehir  maas  yas_maas     ulke yas_grubu yas_grubu2\n",
       "0    tuba   24  istanbul   500  0.048000  turkiye     kucuk      kucuk\n",
       "1  edanur   26    ankara   200  0.130000  turkiye     kucuk      kucuk\n",
       "2  mehmet   27     izmir   300  0.090000  turkiye     kucuk      kucuk\n",
       "3   burak   33    ankara   400  0.082500  turkiye     buyuk      buyuk\n",
       "4    ayse   45    ankara   500  0.090000  turkiye     buyuk      buyuk\n",
       "5   derya   40   antalya   600  0.066667  turkiye     buyuk      buyuk"
      ]
     },
     "execution_count": 240,
     "metadata": {},
     "output_type": "execute_result"
    }
   ],
   "source": [
    "veri[\"yas_grubu2\"]=[\"kucuk\" if veri_yas_mean > veri_yas[i] else \"buyuk\" for i in range(len(veri_yas))]\n",
    "veri"
   ]
  },
  {
   "cell_type": "code",
   "execution_count": 242,
   "id": "8e050886-8c09-4ca7-9474-d98601132fa8",
   "metadata": {},
   "outputs": [
    {
     "data": {
      "text/html": [
       "<div>\n",
       "<style scoped>\n",
       "    .dataframe tbody tr th:only-of-type {\n",
       "        vertical-align: middle;\n",
       "    }\n",
       "\n",
       "    .dataframe tbody tr th {\n",
       "        vertical-align: top;\n",
       "    }\n",
       "\n",
       "    .dataframe thead th {\n",
       "        text-align: right;\n",
       "    }\n",
       "</style>\n",
       "<table border=\"1\" class=\"dataframe\">\n",
       "  <thead>\n",
       "    <tr style=\"text-align: right;\">\n",
       "      <th></th>\n",
       "      <th>isim</th>\n",
       "      <th>yas</th>\n",
       "      <th>sehir</th>\n",
       "      <th>maas</th>\n",
       "      <th>yas_maas</th>\n",
       "      <th>ulke</th>\n",
       "      <th>yas_grubu</th>\n",
       "      <th>yas_grubu2</th>\n",
       "      <th>YAS_GRUBU2</th>\n",
       "    </tr>\n",
       "  </thead>\n",
       "  <tbody>\n",
       "    <tr>\n",
       "      <th>0</th>\n",
       "      <td>tuba</td>\n",
       "      <td>24</td>\n",
       "      <td>istanbul</td>\n",
       "      <td>500</td>\n",
       "      <td>0.048000</td>\n",
       "      <td>turkiye</td>\n",
       "      <td>kucuk</td>\n",
       "      <td>kucuk</td>\n",
       "      <td>KUCUK</td>\n",
       "    </tr>\n",
       "    <tr>\n",
       "      <th>1</th>\n",
       "      <td>edanur</td>\n",
       "      <td>26</td>\n",
       "      <td>ankara</td>\n",
       "      <td>200</td>\n",
       "      <td>0.130000</td>\n",
       "      <td>turkiye</td>\n",
       "      <td>kucuk</td>\n",
       "      <td>kucuk</td>\n",
       "      <td>KUCUK</td>\n",
       "    </tr>\n",
       "    <tr>\n",
       "      <th>2</th>\n",
       "      <td>mehmet</td>\n",
       "      <td>27</td>\n",
       "      <td>izmir</td>\n",
       "      <td>300</td>\n",
       "      <td>0.090000</td>\n",
       "      <td>turkiye</td>\n",
       "      <td>kucuk</td>\n",
       "      <td>kucuk</td>\n",
       "      <td>KUCUK</td>\n",
       "    </tr>\n",
       "    <tr>\n",
       "      <th>3</th>\n",
       "      <td>burak</td>\n",
       "      <td>33</td>\n",
       "      <td>ankara</td>\n",
       "      <td>400</td>\n",
       "      <td>0.082500</td>\n",
       "      <td>turkiye</td>\n",
       "      <td>buyuk</td>\n",
       "      <td>buyuk</td>\n",
       "      <td>BUYUK</td>\n",
       "    </tr>\n",
       "    <tr>\n",
       "      <th>4</th>\n",
       "      <td>ayse</td>\n",
       "      <td>45</td>\n",
       "      <td>ankara</td>\n",
       "      <td>500</td>\n",
       "      <td>0.090000</td>\n",
       "      <td>turkiye</td>\n",
       "      <td>buyuk</td>\n",
       "      <td>buyuk</td>\n",
       "      <td>BUYUK</td>\n",
       "    </tr>\n",
       "    <tr>\n",
       "      <th>5</th>\n",
       "      <td>derya</td>\n",
       "      <td>40</td>\n",
       "      <td>antalya</td>\n",
       "      <td>600</td>\n",
       "      <td>0.066667</td>\n",
       "      <td>turkiye</td>\n",
       "      <td>buyuk</td>\n",
       "      <td>buyuk</td>\n",
       "      <td>BUYUK</td>\n",
       "    </tr>\n",
       "  </tbody>\n",
       "</table>\n",
       "</div>"
      ],
      "text/plain": [
       "     isim  yas     sehir  maas  yas_maas     ulke yas_grubu yas_grubu2  \\\n",
       "0    tuba   24  istanbul   500  0.048000  turkiye     kucuk      kucuk   \n",
       "1  edanur   26    ankara   200  0.130000  turkiye     kucuk      kucuk   \n",
       "2  mehmet   27     izmir   300  0.090000  turkiye     kucuk      kucuk   \n",
       "3   burak   33    ankara   400  0.082500  turkiye     buyuk      buyuk   \n",
       "4    ayse   45    ankara   500  0.090000  turkiye     buyuk      buyuk   \n",
       "5   derya   40   antalya   600  0.066667  turkiye     buyuk      buyuk   \n",
       "\n",
       "  YAS_GRUBU2  \n",
       "0      KUCUK  \n",
       "1      KUCUK  \n",
       "2      KUCUK  \n",
       "3      BUYUK  \n",
       "4      BUYUK  \n",
       "5      BUYUK  "
      ]
     },
     "execution_count": 242,
     "metadata": {},
     "output_type": "execute_result"
    }
   ],
   "source": [
    "veri[\"YAS_GRUBU2\"] = [i.upper() for i in veri.yas_grubu2]\n",
    "veri"
   ]
  },
  {
   "cell_type": "code",
   "execution_count": 244,
   "id": "ad30c41b-8436-4192-bacb-092cd4ab1f04",
   "metadata": {},
   "outputs": [
    {
     "data": {
      "text/plain": [
       "[0, 1, 2, 3, 4, 5]"
      ]
     },
     "execution_count": 244,
     "metadata": {},
     "output_type": "execute_result"
    }
   ],
   "source": [
    "veri.index.tolist()"
   ]
  },
  {
   "cell_type": "code",
   "execution_count": 246,
   "id": "e3bd301b-9a26-421f-9a79-06cb2c4d6ec1",
   "metadata": {},
   "outputs": [
    {
     "data": {
      "text/html": [
       "<div>\n",
       "<style scoped>\n",
       "    .dataframe tbody tr th:only-of-type {\n",
       "        vertical-align: middle;\n",
       "    }\n",
       "\n",
       "    .dataframe tbody tr th {\n",
       "        vertical-align: top;\n",
       "    }\n",
       "\n",
       "    .dataframe thead th {\n",
       "        text-align: right;\n",
       "    }\n",
       "</style>\n",
       "<table border=\"1\" class=\"dataframe\">\n",
       "  <thead>\n",
       "    <tr style=\"text-align: right;\">\n",
       "      <th></th>\n",
       "      <th>isim</th>\n",
       "      <th>yas</th>\n",
       "      <th>sehir</th>\n",
       "      <th>maas</th>\n",
       "      <th>yas_maas</th>\n",
       "      <th>ulke</th>\n",
       "      <th>yas_grubu</th>\n",
       "      <th>yas_grubu2</th>\n",
       "      <th>YAS_GRUBU2</th>\n",
       "      <th>new_yas</th>\n",
       "    </tr>\n",
       "  </thead>\n",
       "  <tbody>\n",
       "    <tr>\n",
       "      <th>0</th>\n",
       "      <td>tuba</td>\n",
       "      <td>24</td>\n",
       "      <td>istanbul</td>\n",
       "      <td>500</td>\n",
       "      <td>0.048000</td>\n",
       "      <td>turkiye</td>\n",
       "      <td>kucuk</td>\n",
       "      <td>kucuk</td>\n",
       "      <td>KUCUK</td>\n",
       "      <td>120</td>\n",
       "    </tr>\n",
       "    <tr>\n",
       "      <th>1</th>\n",
       "      <td>edanur</td>\n",
       "      <td>26</td>\n",
       "      <td>ankara</td>\n",
       "      <td>200</td>\n",
       "      <td>0.130000</td>\n",
       "      <td>turkiye</td>\n",
       "      <td>kucuk</td>\n",
       "      <td>kucuk</td>\n",
       "      <td>KUCUK</td>\n",
       "      <td>52</td>\n",
       "    </tr>\n",
       "    <tr>\n",
       "      <th>2</th>\n",
       "      <td>mehmet</td>\n",
       "      <td>27</td>\n",
       "      <td>izmir</td>\n",
       "      <td>300</td>\n",
       "      <td>0.090000</td>\n",
       "      <td>turkiye</td>\n",
       "      <td>kucuk</td>\n",
       "      <td>kucuk</td>\n",
       "      <td>KUCUK</td>\n",
       "      <td>135</td>\n",
       "    </tr>\n",
       "    <tr>\n",
       "      <th>3</th>\n",
       "      <td>burak</td>\n",
       "      <td>33</td>\n",
       "      <td>ankara</td>\n",
       "      <td>400</td>\n",
       "      <td>0.082500</td>\n",
       "      <td>turkiye</td>\n",
       "      <td>buyuk</td>\n",
       "      <td>buyuk</td>\n",
       "      <td>BUYUK</td>\n",
       "      <td>66</td>\n",
       "    </tr>\n",
       "    <tr>\n",
       "      <th>4</th>\n",
       "      <td>ayse</td>\n",
       "      <td>45</td>\n",
       "      <td>ankara</td>\n",
       "      <td>500</td>\n",
       "      <td>0.090000</td>\n",
       "      <td>turkiye</td>\n",
       "      <td>buyuk</td>\n",
       "      <td>buyuk</td>\n",
       "      <td>BUYUK</td>\n",
       "      <td>90</td>\n",
       "    </tr>\n",
       "    <tr>\n",
       "      <th>5</th>\n",
       "      <td>derya</td>\n",
       "      <td>40</td>\n",
       "      <td>antalya</td>\n",
       "      <td>600</td>\n",
       "      <td>0.066667</td>\n",
       "      <td>turkiye</td>\n",
       "      <td>buyuk</td>\n",
       "      <td>buyuk</td>\n",
       "      <td>BUYUK</td>\n",
       "      <td>200</td>\n",
       "    </tr>\n",
       "  </tbody>\n",
       "</table>\n",
       "</div>"
      ],
      "text/plain": [
       "     isim  yas     sehir  maas  yas_maas     ulke yas_grubu yas_grubu2  \\\n",
       "0    tuba   24  istanbul   500  0.048000  turkiye     kucuk      kucuk   \n",
       "1  edanur   26    ankara   200  0.130000  turkiye     kucuk      kucuk   \n",
       "2  mehmet   27     izmir   300  0.090000  turkiye     kucuk      kucuk   \n",
       "3   burak   33    ankara   400  0.082500  turkiye     buyuk      buyuk   \n",
       "4    ayse   45    ankara   500  0.090000  turkiye     buyuk      buyuk   \n",
       "5   derya   40   antalya   600  0.066667  turkiye     buyuk      buyuk   \n",
       "\n",
       "  YAS_GRUBU2  new_yas  \n",
       "0      KUCUK      120  \n",
       "1      KUCUK       52  \n",
       "2      KUCUK      135  \n",
       "3      BUYUK       66  \n",
       "4      BUYUK       90  \n",
       "5      BUYUK      200  "
      ]
     },
     "execution_count": 246,
     "metadata": {},
     "output_type": "execute_result"
    }
   ],
   "source": [
    "# tum satirlara bakalim eger ankarada yasayan varsa, yasini x 2 , else yas x 5 new_yas sutun olusturalim\n",
    "veri[\"new_yas\"]=[veri.yas[i]*2 if veri.sehir[i]==\"ankara\" else veri.yas[i]*5 for i in range(len(veri))]\n",
    "veri"
   ]
  },
  {
   "cell_type": "code",
   "execution_count": 248,
   "id": "df130716-72db-48c3-b6bd-6011499099e1",
   "metadata": {},
   "outputs": [],
   "source": [
    "def yas10YilSonrasi(age):\n",
    "  output = age + 10\n",
    "  return output"
   ]
  },
  {
   "cell_type": "code",
   "execution_count": 250,
   "id": "a64a8bde-430a-44a2-884d-38ccbeda7a1e",
   "metadata": {},
   "outputs": [
    {
     "data": {
      "text/html": [
       "<div>\n",
       "<style scoped>\n",
       "    .dataframe tbody tr th:only-of-type {\n",
       "        vertical-align: middle;\n",
       "    }\n",
       "\n",
       "    .dataframe tbody tr th {\n",
       "        vertical-align: top;\n",
       "    }\n",
       "\n",
       "    .dataframe thead th {\n",
       "        text-align: right;\n",
       "    }\n",
       "</style>\n",
       "<table border=\"1\" class=\"dataframe\">\n",
       "  <thead>\n",
       "    <tr style=\"text-align: right;\">\n",
       "      <th></th>\n",
       "      <th>isim</th>\n",
       "      <th>yas</th>\n",
       "      <th>sehir</th>\n",
       "      <th>maas</th>\n",
       "      <th>yas_maas</th>\n",
       "      <th>ulke</th>\n",
       "      <th>yas_grubu</th>\n",
       "      <th>yas_grubu2</th>\n",
       "      <th>YAS_GRUBU2</th>\n",
       "      <th>new_yas</th>\n",
       "      <th>yas_10_yil_sonrasi</th>\n",
       "    </tr>\n",
       "  </thead>\n",
       "  <tbody>\n",
       "    <tr>\n",
       "      <th>0</th>\n",
       "      <td>tuba</td>\n",
       "      <td>24</td>\n",
       "      <td>istanbul</td>\n",
       "      <td>500</td>\n",
       "      <td>0.048000</td>\n",
       "      <td>turkiye</td>\n",
       "      <td>kucuk</td>\n",
       "      <td>kucuk</td>\n",
       "      <td>KUCUK</td>\n",
       "      <td>120</td>\n",
       "      <td>34</td>\n",
       "    </tr>\n",
       "    <tr>\n",
       "      <th>1</th>\n",
       "      <td>edanur</td>\n",
       "      <td>26</td>\n",
       "      <td>ankara</td>\n",
       "      <td>200</td>\n",
       "      <td>0.130000</td>\n",
       "      <td>turkiye</td>\n",
       "      <td>kucuk</td>\n",
       "      <td>kucuk</td>\n",
       "      <td>KUCUK</td>\n",
       "      <td>52</td>\n",
       "      <td>36</td>\n",
       "    </tr>\n",
       "    <tr>\n",
       "      <th>2</th>\n",
       "      <td>mehmet</td>\n",
       "      <td>27</td>\n",
       "      <td>izmir</td>\n",
       "      <td>300</td>\n",
       "      <td>0.090000</td>\n",
       "      <td>turkiye</td>\n",
       "      <td>kucuk</td>\n",
       "      <td>kucuk</td>\n",
       "      <td>KUCUK</td>\n",
       "      <td>135</td>\n",
       "      <td>37</td>\n",
       "    </tr>\n",
       "    <tr>\n",
       "      <th>3</th>\n",
       "      <td>burak</td>\n",
       "      <td>33</td>\n",
       "      <td>ankara</td>\n",
       "      <td>400</td>\n",
       "      <td>0.082500</td>\n",
       "      <td>turkiye</td>\n",
       "      <td>buyuk</td>\n",
       "      <td>buyuk</td>\n",
       "      <td>BUYUK</td>\n",
       "      <td>66</td>\n",
       "      <td>43</td>\n",
       "    </tr>\n",
       "    <tr>\n",
       "      <th>4</th>\n",
       "      <td>ayse</td>\n",
       "      <td>45</td>\n",
       "      <td>ankara</td>\n",
       "      <td>500</td>\n",
       "      <td>0.090000</td>\n",
       "      <td>turkiye</td>\n",
       "      <td>buyuk</td>\n",
       "      <td>buyuk</td>\n",
       "      <td>BUYUK</td>\n",
       "      <td>90</td>\n",
       "      <td>55</td>\n",
       "    </tr>\n",
       "    <tr>\n",
       "      <th>5</th>\n",
       "      <td>derya</td>\n",
       "      <td>40</td>\n",
       "      <td>antalya</td>\n",
       "      <td>600</td>\n",
       "      <td>0.066667</td>\n",
       "      <td>turkiye</td>\n",
       "      <td>buyuk</td>\n",
       "      <td>buyuk</td>\n",
       "      <td>BUYUK</td>\n",
       "      <td>200</td>\n",
       "      <td>50</td>\n",
       "    </tr>\n",
       "  </tbody>\n",
       "</table>\n",
       "</div>"
      ],
      "text/plain": [
       "     isim  yas     sehir  maas  yas_maas     ulke yas_grubu yas_grubu2  \\\n",
       "0    tuba   24  istanbul   500  0.048000  turkiye     kucuk      kucuk   \n",
       "1  edanur   26    ankara   200  0.130000  turkiye     kucuk      kucuk   \n",
       "2  mehmet   27     izmir   300  0.090000  turkiye     kucuk      kucuk   \n",
       "3   burak   33    ankara   400  0.082500  turkiye     buyuk      buyuk   \n",
       "4    ayse   45    ankara   500  0.090000  turkiye     buyuk      buyuk   \n",
       "5   derya   40   antalya   600  0.066667  turkiye     buyuk      buyuk   \n",
       "\n",
       "  YAS_GRUBU2  new_yas  yas_10_yil_sonrasi  \n",
       "0      KUCUK      120                  34  \n",
       "1      KUCUK       52                  36  \n",
       "2      KUCUK      135                  37  \n",
       "3      BUYUK       66                  43  \n",
       "4      BUYUK       90                  55  \n",
       "5      BUYUK      200                  50  "
      ]
     },
     "execution_count": 250,
     "metadata": {},
     "output_type": "execute_result"
    }
   ],
   "source": [
    "veri[\"yas_10_yil_sonrasi\"] = veri.yas.apply(yas10YilSonrasi)\n",
    "veri"
   ]
  },
  {
   "cell_type": "code",
   "execution_count": 252,
   "id": "d884d7c1-47e3-4dfc-aae9-9be5cca2fedb",
   "metadata": {},
   "outputs": [
    {
     "data": {
      "text/html": [
       "<div>\n",
       "<style scoped>\n",
       "    .dataframe tbody tr th:only-of-type {\n",
       "        vertical-align: middle;\n",
       "    }\n",
       "\n",
       "    .dataframe tbody tr th {\n",
       "        vertical-align: top;\n",
       "    }\n",
       "\n",
       "    .dataframe thead th {\n",
       "        text-align: right;\n",
       "    }\n",
       "</style>\n",
       "<table border=\"1\" class=\"dataframe\">\n",
       "  <thead>\n",
       "    <tr style=\"text-align: right;\">\n",
       "      <th></th>\n",
       "      <th>isim</th>\n",
       "      <th>yas</th>\n",
       "      <th>sehir</th>\n",
       "      <th>maas</th>\n",
       "      <th>yas_maas</th>\n",
       "      <th>ulke</th>\n",
       "      <th>yas_grubu</th>\n",
       "      <th>yas_grubu2</th>\n",
       "      <th>YAS_GRUBU2</th>\n",
       "      <th>new_yas</th>\n",
       "      <th>yas_10_yil_sonrasi</th>\n",
       "      <th>new_age3</th>\n",
       "    </tr>\n",
       "  </thead>\n",
       "  <tbody>\n",
       "    <tr>\n",
       "      <th>0</th>\n",
       "      <td>tuba</td>\n",
       "      <td>24</td>\n",
       "      <td>istanbul</td>\n",
       "      <td>500</td>\n",
       "      <td>0.048000</td>\n",
       "      <td>turkiye</td>\n",
       "      <td>kucuk</td>\n",
       "      <td>kucuk</td>\n",
       "      <td>KUCUK</td>\n",
       "      <td>120</td>\n",
       "      <td>34</td>\n",
       "      <td>72</td>\n",
       "    </tr>\n",
       "    <tr>\n",
       "      <th>1</th>\n",
       "      <td>edanur</td>\n",
       "      <td>26</td>\n",
       "      <td>ankara</td>\n",
       "      <td>200</td>\n",
       "      <td>0.130000</td>\n",
       "      <td>turkiye</td>\n",
       "      <td>kucuk</td>\n",
       "      <td>kucuk</td>\n",
       "      <td>KUCUK</td>\n",
       "      <td>52</td>\n",
       "      <td>36</td>\n",
       "      <td>104</td>\n",
       "    </tr>\n",
       "    <tr>\n",
       "      <th>2</th>\n",
       "      <td>mehmet</td>\n",
       "      <td>27</td>\n",
       "      <td>izmir</td>\n",
       "      <td>300</td>\n",
       "      <td>0.090000</td>\n",
       "      <td>turkiye</td>\n",
       "      <td>kucuk</td>\n",
       "      <td>kucuk</td>\n",
       "      <td>KUCUK</td>\n",
       "      <td>135</td>\n",
       "      <td>37</td>\n",
       "      <td>108</td>\n",
       "    </tr>\n",
       "    <tr>\n",
       "      <th>3</th>\n",
       "      <td>burak</td>\n",
       "      <td>33</td>\n",
       "      <td>ankara</td>\n",
       "      <td>400</td>\n",
       "      <td>0.082500</td>\n",
       "      <td>turkiye</td>\n",
       "      <td>buyuk</td>\n",
       "      <td>buyuk</td>\n",
       "      <td>BUYUK</td>\n",
       "      <td>66</td>\n",
       "      <td>43</td>\n",
       "      <td>66</td>\n",
       "    </tr>\n",
       "    <tr>\n",
       "      <th>4</th>\n",
       "      <td>ayse</td>\n",
       "      <td>45</td>\n",
       "      <td>ankara</td>\n",
       "      <td>500</td>\n",
       "      <td>0.090000</td>\n",
       "      <td>turkiye</td>\n",
       "      <td>buyuk</td>\n",
       "      <td>buyuk</td>\n",
       "      <td>BUYUK</td>\n",
       "      <td>90</td>\n",
       "      <td>55</td>\n",
       "      <td>135</td>\n",
       "    </tr>\n",
       "    <tr>\n",
       "      <th>5</th>\n",
       "      <td>derya</td>\n",
       "      <td>40</td>\n",
       "      <td>antalya</td>\n",
       "      <td>600</td>\n",
       "      <td>0.066667</td>\n",
       "      <td>turkiye</td>\n",
       "      <td>buyuk</td>\n",
       "      <td>buyuk</td>\n",
       "      <td>BUYUK</td>\n",
       "      <td>200</td>\n",
       "      <td>50</td>\n",
       "      <td>80</td>\n",
       "    </tr>\n",
       "  </tbody>\n",
       "</table>\n",
       "</div>"
      ],
      "text/plain": [
       "     isim  yas     sehir  maas  yas_maas     ulke yas_grubu yas_grubu2  \\\n",
       "0    tuba   24  istanbul   500  0.048000  turkiye     kucuk      kucuk   \n",
       "1  edanur   26    ankara   200  0.130000  turkiye     kucuk      kucuk   \n",
       "2  mehmet   27     izmir   300  0.090000  turkiye     kucuk      kucuk   \n",
       "3   burak   33    ankara   400  0.082500  turkiye     buyuk      buyuk   \n",
       "4    ayse   45    ankara   500  0.090000  turkiye     buyuk      buyuk   \n",
       "5   derya   40   antalya   600  0.066667  turkiye     buyuk      buyuk   \n",
       "\n",
       "  YAS_GRUBU2  new_yas  yas_10_yil_sonrasi  new_age3  \n",
       "0      KUCUK      120                  34        72  \n",
       "1      KUCUK       52                  36       104  \n",
       "2      KUCUK      135                  37       108  \n",
       "3      BUYUK       66                  43        66  \n",
       "4      BUYUK       90                  55       135  \n",
       "5      BUYUK      200                  50        80  "
      ]
     },
     "execution_count": 252,
     "metadata": {},
     "output_type": "execute_result"
    }
   ],
   "source": [
    "# dataframe de bulunan insanlarin isimlerinin uzunlugu == 5 ise yeni yasi 2 ile varpalim\n",
    "# eger isim uzunlugu == 4 ise 3 ile carpalim else 4 ile carpalim\n",
    "def nameLength(df):\n",
    "  if len(df.isim)==5:\n",
    "    return df.yas*2\n",
    "  elif len(df.isim)==4:\n",
    "    return df.yas*3\n",
    "  else:\n",
    "    return df.yas*4\n",
    "veri[\"new_age3\"]=veri.apply(nameLength, axis=1)\n",
    "veri"
   ]
  },
  {
   "cell_type": "code",
   "execution_count": 254,
   "id": "9a819bb0-ded2-4d78-a157-a8b9a99d9c6a",
   "metadata": {},
   "outputs": [
    {
     "data": {
      "text/html": [
       "<div>\n",
       "<style scoped>\n",
       "    .dataframe tbody tr th:only-of-type {\n",
       "        vertical-align: middle;\n",
       "    }\n",
       "\n",
       "    .dataframe tbody tr th {\n",
       "        vertical-align: top;\n",
       "    }\n",
       "\n",
       "    .dataframe thead th {\n",
       "        text-align: right;\n",
       "    }\n",
       "</style>\n",
       "<table border=\"1\" class=\"dataframe\">\n",
       "  <thead>\n",
       "    <tr style=\"text-align: right;\">\n",
       "      <th></th>\n",
       "      <th>isim</th>\n",
       "      <th>yas</th>\n",
       "    </tr>\n",
       "  </thead>\n",
       "  <tbody>\n",
       "    <tr>\n",
       "      <th>0</th>\n",
       "      <td>ali</td>\n",
       "      <td>15</td>\n",
       "    </tr>\n",
       "    <tr>\n",
       "      <th>1</th>\n",
       "      <td>veli</td>\n",
       "      <td>16</td>\n",
       "    </tr>\n",
       "  </tbody>\n",
       "</table>\n",
       "</div>"
      ],
      "text/plain": [
       "   isim  yas\n",
       "0   ali   15\n",
       "1  veli   16"
      ]
     },
     "execution_count": 254,
     "metadata": {},
     "output_type": "execute_result"
    }
   ],
   "source": [
    "sozluk1 = {\"isim\": [\"ali\", \"veli\"],\n",
    "           \"yas\": [15, 16]}\n",
    "veri1 = pd.DataFrame(sozluk1)\n",
    "veri1"
   ]
  },
  {
   "cell_type": "code",
   "execution_count": 256,
   "id": "970e7ad2-cf90-4545-b13b-8de649c1933a",
   "metadata": {},
   "outputs": [
    {
     "data": {
      "text/html": [
       "<div>\n",
       "<style scoped>\n",
       "    .dataframe tbody tr th:only-of-type {\n",
       "        vertical-align: middle;\n",
       "    }\n",
       "\n",
       "    .dataframe tbody tr th {\n",
       "        vertical-align: top;\n",
       "    }\n",
       "\n",
       "    .dataframe thead th {\n",
       "        text-align: right;\n",
       "    }\n",
       "</style>\n",
       "<table border=\"1\" class=\"dataframe\">\n",
       "  <thead>\n",
       "    <tr style=\"text-align: right;\">\n",
       "      <th></th>\n",
       "      <th>isim</th>\n",
       "      <th>yas</th>\n",
       "    </tr>\n",
       "  </thead>\n",
       "  <tbody>\n",
       "    <tr>\n",
       "      <th>0</th>\n",
       "      <td>murat</td>\n",
       "      <td>32</td>\n",
       "    </tr>\n",
       "    <tr>\n",
       "      <th>1</th>\n",
       "      <td>ayse</td>\n",
       "      <td>33</td>\n",
       "    </tr>\n",
       "  </tbody>\n",
       "</table>\n",
       "</div>"
      ],
      "text/plain": [
       "    isim  yas\n",
       "0  murat   32\n",
       "1   ayse   33"
      ]
     },
     "execution_count": 256,
     "metadata": {},
     "output_type": "execute_result"
    }
   ],
   "source": [
    "sozluk2 = {\"isim\": [\"murat\", \"ayse\"],\n",
    "           \"yas\": [32, 33]}\n",
    "veri2 = pd.DataFrame(sozluk2)\n",
    "veri2"
   ]
  },
  {
   "cell_type": "code",
   "execution_count": 258,
   "id": "2b443eb5-1602-44ac-9d97-2ec4e5ae31c5",
   "metadata": {},
   "outputs": [
    {
     "data": {
      "text/html": [
       "<div>\n",
       "<style scoped>\n",
       "    .dataframe tbody tr th:only-of-type {\n",
       "        vertical-align: middle;\n",
       "    }\n",
       "\n",
       "    .dataframe tbody tr th {\n",
       "        vertical-align: top;\n",
       "    }\n",
       "\n",
       "    .dataframe thead th {\n",
       "        text-align: right;\n",
       "    }\n",
       "</style>\n",
       "<table border=\"1\" class=\"dataframe\">\n",
       "  <thead>\n",
       "    <tr style=\"text-align: right;\">\n",
       "      <th></th>\n",
       "      <th>isim</th>\n",
       "      <th>yas</th>\n",
       "    </tr>\n",
       "  </thead>\n",
       "  <tbody>\n",
       "    <tr>\n",
       "      <th>0</th>\n",
       "      <td>ali</td>\n",
       "      <td>15</td>\n",
       "    </tr>\n",
       "    <tr>\n",
       "      <th>1</th>\n",
       "      <td>veli</td>\n",
       "      <td>16</td>\n",
       "    </tr>\n",
       "    <tr>\n",
       "      <th>0</th>\n",
       "      <td>murat</td>\n",
       "      <td>32</td>\n",
       "    </tr>\n",
       "    <tr>\n",
       "      <th>1</th>\n",
       "      <td>ayse</td>\n",
       "      <td>33</td>\n",
       "    </tr>\n",
       "  </tbody>\n",
       "</table>\n",
       "</div>"
      ],
      "text/plain": [
       "    isim  yas\n",
       "0    ali   15\n",
       "1   veli   16\n",
       "0  murat   32\n",
       "1   ayse   33"
      ]
     },
     "execution_count": 258,
     "metadata": {},
     "output_type": "execute_result"
    }
   ],
   "source": [
    "veri_dikey = pd.concat([veri1, veri2], axis = 0)\n",
    "veri_dikey"
   ]
  },
  {
   "cell_type": "code",
   "execution_count": 260,
   "id": "1d9d6d16-9d55-43a5-a09b-cfc896920cc1",
   "metadata": {},
   "outputs": [
    {
     "data": {
      "text/html": [
       "<div>\n",
       "<style scoped>\n",
       "    .dataframe tbody tr th:only-of-type {\n",
       "        vertical-align: middle;\n",
       "    }\n",
       "\n",
       "    .dataframe tbody tr th {\n",
       "        vertical-align: top;\n",
       "    }\n",
       "\n",
       "    .dataframe thead th {\n",
       "        text-align: right;\n",
       "    }\n",
       "</style>\n",
       "<table border=\"1\" class=\"dataframe\">\n",
       "  <thead>\n",
       "    <tr style=\"text-align: right;\">\n",
       "      <th></th>\n",
       "      <th>isim</th>\n",
       "      <th>yas</th>\n",
       "      <th>isim</th>\n",
       "      <th>yas</th>\n",
       "    </tr>\n",
       "  </thead>\n",
       "  <tbody>\n",
       "    <tr>\n",
       "      <th>0</th>\n",
       "      <td>ali</td>\n",
       "      <td>15</td>\n",
       "      <td>murat</td>\n",
       "      <td>32</td>\n",
       "    </tr>\n",
       "    <tr>\n",
       "      <th>1</th>\n",
       "      <td>veli</td>\n",
       "      <td>16</td>\n",
       "      <td>ayse</td>\n",
       "      <td>33</td>\n",
       "    </tr>\n",
       "  </tbody>\n",
       "</table>\n",
       "</div>"
      ],
      "text/plain": [
       "   isim  yas   isim  yas\n",
       "0   ali   15  murat   32\n",
       "1  veli   16   ayse   33"
      ]
     },
     "execution_count": 260,
     "metadata": {},
     "output_type": "execute_result"
    }
   ],
   "source": [
    "veri_yatay = pd.concat([veri1, veri2], axis = 1)\n",
    "veri_yatay"
   ]
  },
  {
   "cell_type": "code",
   "execution_count": 270,
   "id": "58058d84-6ff8-4000-82a8-6dad28309239",
   "metadata": {},
   "outputs": [
    {
     "data": {
      "text/html": [
       "<div>\n",
       "<style scoped>\n",
       "    .dataframe tbody tr th:only-of-type {\n",
       "        vertical-align: middle;\n",
       "    }\n",
       "\n",
       "    .dataframe tbody tr th {\n",
       "        vertical-align: top;\n",
       "    }\n",
       "\n",
       "    .dataframe thead th {\n",
       "        text-align: right;\n",
       "    }\n",
       "</style>\n",
       "<table border=\"1\" class=\"dataframe\">\n",
       "  <thead>\n",
       "    <tr style=\"text-align: right;\">\n",
       "      <th></th>\n",
       "      <th>sehir</th>\n",
       "      <th>yas</th>\n",
       "    </tr>\n",
       "  </thead>\n",
       "  <tbody>\n",
       "    <tr>\n",
       "      <th>0</th>\n",
       "      <td>ankara</td>\n",
       "      <td>22</td>\n",
       "    </tr>\n",
       "    <tr>\n",
       "      <th>1</th>\n",
       "      <td>istanbul</td>\n",
       "      <td>23</td>\n",
       "    </tr>\n",
       "  </tbody>\n",
       "</table>\n",
       "</div>"
      ],
      "text/plain": [
       "      sehir  yas\n",
       "0    ankara   22\n",
       "1  istanbul   23"
      ]
     },
     "execution_count": 270,
     "metadata": {},
     "output_type": "execute_result"
    }
   ],
   "source": [
    "sozluk1 = {\"isim\": [\"ali\", \"veli\"],\n",
    "           \"yas\": [15, 16]}\n",
    "veri1 = pd.DataFrame(sozluk1)\n",
    "veri1\n",
    "\n",
    "sozluk3 = {\"sehir\": [\"ankara\", \"istanbul\"],\n",
    "           \"yas\": [22, 23]}\n",
    "veri3 = pd.DataFrame(sozluk3)\n",
    "veri3"
   ]
  },
  {
   "cell_type": "code",
   "execution_count": 272,
   "id": "2a9ceecd-ee0d-4d62-866c-d9f39b082122",
   "metadata": {},
   "outputs": [
    {
     "data": {
      "text/html": [
       "<div>\n",
       "<style scoped>\n",
       "    .dataframe tbody tr th:only-of-type {\n",
       "        vertical-align: middle;\n",
       "    }\n",
       "\n",
       "    .dataframe tbody tr th {\n",
       "        vertical-align: top;\n",
       "    }\n",
       "\n",
       "    .dataframe thead th {\n",
       "        text-align: right;\n",
       "    }\n",
       "</style>\n",
       "<table border=\"1\" class=\"dataframe\">\n",
       "  <thead>\n",
       "    <tr style=\"text-align: right;\">\n",
       "      <th></th>\n",
       "      <th>isim</th>\n",
       "      <th>yas</th>\n",
       "      <th>sehir</th>\n",
       "    </tr>\n",
       "  </thead>\n",
       "  <tbody>\n",
       "    <tr>\n",
       "      <th>0</th>\n",
       "      <td>ali</td>\n",
       "      <td>15</td>\n",
       "      <td>NaN</td>\n",
       "    </tr>\n",
       "    <tr>\n",
       "      <th>1</th>\n",
       "      <td>veli</td>\n",
       "      <td>16</td>\n",
       "      <td>NaN</td>\n",
       "    </tr>\n",
       "    <tr>\n",
       "      <th>2</th>\n",
       "      <td>NaN</td>\n",
       "      <td>22</td>\n",
       "      <td>ankara</td>\n",
       "    </tr>\n",
       "    <tr>\n",
       "      <th>3</th>\n",
       "      <td>NaN</td>\n",
       "      <td>23</td>\n",
       "      <td>istanbul</td>\n",
       "    </tr>\n",
       "  </tbody>\n",
       "</table>\n",
       "</div>"
      ],
      "text/plain": [
       "   isim  yas     sehir\n",
       "0   ali   15       NaN\n",
       "1  veli   16       NaN\n",
       "2   NaN   22    ankara\n",
       "3   NaN   23  istanbul"
      ]
     },
     "execution_count": 272,
     "metadata": {},
     "output_type": "execute_result"
    }
   ],
   "source": [
    "veri_dikey = pd.concat([veri1, veri3], axis = 0, ignore_index=True)\n",
    "# veri_dikey.reset_index(drop=True, inplace=True)\n",
    "veri_dikey"
   ]
  },
  {
   "cell_type": "code",
   "execution_count": null,
   "id": "43c7b943-b8d8-482e-8801-ee6330c2213d",
   "metadata": {},
   "outputs": [],
   "source": []
  }
 ],
 "metadata": {
  "kernelspec": {
   "display_name": "Python 3 (ipykernel)",
   "language": "python",
   "name": "python3"
  },
  "language_info": {
   "codemirror_mode": {
    "name": "ipython",
    "version": 3
   },
   "file_extension": ".py",
   "mimetype": "text/x-python",
   "name": "python",
   "nbconvert_exporter": "python",
   "pygments_lexer": "ipython3",
   "version": "3.12.7"
  }
 },
 "nbformat": 4,
 "nbformat_minor": 5
}
